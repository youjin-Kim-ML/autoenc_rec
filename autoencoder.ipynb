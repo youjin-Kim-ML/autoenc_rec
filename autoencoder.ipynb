{
 "cells": [
  {
   "cell_type": "code",
   "execution_count": 1,
   "metadata": {},
   "outputs": [
    {
     "name": "stderr",
     "output_type": "stream",
     "text": [
      "/home/yjkim/anaconda3/envs/allml/lib/python3.7/site-packages/tensorflow/python/framework/dtypes.py:526: FutureWarning: Passing (type, 1) or '1type' as a synonym of type is deprecated; in a future version of numpy, it will be understood as (type, (1,)) / '(1,)type'.\n",
      "  _np_qint8 = np.dtype([(\"qint8\", np.int8, 1)])\n",
      "/home/yjkim/anaconda3/envs/allml/lib/python3.7/site-packages/tensorflow/python/framework/dtypes.py:527: FutureWarning: Passing (type, 1) or '1type' as a synonym of type is deprecated; in a future version of numpy, it will be understood as (type, (1,)) / '(1,)type'.\n",
      "  _np_quint8 = np.dtype([(\"quint8\", np.uint8, 1)])\n",
      "/home/yjkim/anaconda3/envs/allml/lib/python3.7/site-packages/tensorflow/python/framework/dtypes.py:528: FutureWarning: Passing (type, 1) or '1type' as a synonym of type is deprecated; in a future version of numpy, it will be understood as (type, (1,)) / '(1,)type'.\n",
      "  _np_qint16 = np.dtype([(\"qint16\", np.int16, 1)])\n",
      "/home/yjkim/anaconda3/envs/allml/lib/python3.7/site-packages/tensorflow/python/framework/dtypes.py:529: FutureWarning: Passing (type, 1) or '1type' as a synonym of type is deprecated; in a future version of numpy, it will be understood as (type, (1,)) / '(1,)type'.\n",
      "  _np_quint16 = np.dtype([(\"quint16\", np.uint16, 1)])\n",
      "/home/yjkim/anaconda3/envs/allml/lib/python3.7/site-packages/tensorflow/python/framework/dtypes.py:530: FutureWarning: Passing (type, 1) or '1type' as a synonym of type is deprecated; in a future version of numpy, it will be understood as (type, (1,)) / '(1,)type'.\n",
      "  _np_qint32 = np.dtype([(\"qint32\", np.int32, 1)])\n",
      "/home/yjkim/anaconda3/envs/allml/lib/python3.7/site-packages/tensorflow/python/framework/dtypes.py:535: FutureWarning: Passing (type, 1) or '1type' as a synonym of type is deprecated; in a future version of numpy, it will be understood as (type, (1,)) / '(1,)type'.\n",
      "  np_resource = np.dtype([(\"resource\", np.ubyte, 1)])\n"
     ]
    }
   ],
   "source": [
    "import tensorflow as tf\n",
    "import os\n",
    "os.environ['CUDA_VISIBLE_DEVICES'] = \"1\" # 할당된 gpu 번호\n",
    "#config = tf.compat.v1.ConfigProto()\n",
    "#config.gpu_options.per_process_gpu_memory_fraction = 0.99\n",
    "#session = tf.compat.v1.Session(config=config)\n",
    "import json\n",
    "def load_json(fname):\n",
    "    with open(fname) as f:\n",
    "        json_obj = json.load(f)\n",
    "\n",
    "    return json_obj\n",
    "train = load_json(\"train.json\")\n",
    "val = load_json(\"val.json\")\n",
    "test = load_json(\"test.json\")\n",
    "# for i in range(len(val)):\n",
    "#     train.append(val[i])\n",
    "data = train+val+test\n",
    "s = []\n",
    "t =[]\n",
    "play_ = []\n",
    "for i in range(len(data)):\n",
    "    t.append(data[i][\"tags\"])\n",
    "    s.append(data[i][\"songs\"])\n",
    "    play_.append(data[i][\"plylst_title\"])\n",
    "    \n",
    "tags = []\n",
    "for i in t:\n",
    "    abc = []\n",
    "    for j in i:\n",
    "        abc.append(str(j))  \n",
    "    tags.append(abc)\n",
    "songs = []\n",
    "for i in s:\n",
    "    abc = []\n",
    "    for j in i:\n",
    "        abc.append(str(j))  \n",
    "    songs.append(abc)\n",
    "title = []\n",
    "for i in play_:\n",
    "    abc = []\n",
    "    for j in i:\n",
    "        abc.append(str(j))  \n",
    "    title.append(abc)\n",
    "\n",
    "tags_ = [' '.join(sentence) for sentence in tags]\n",
    "songs_ = [' '.join(sentence) for sentence in songs]\n",
    "title_ = [' '.join(sentence) for sentence in title]\n",
    "\n",
    "\n",
    "from sklearn.feature_extraction.text import CountVectorizer\n",
    "\n",
    "vect = CountVectorizer(token_pattern=u\"(?u)\\\\b\\\\w+\\\\b\", min_df=2)\n",
    "vect.fit(tags_)\n",
    "len(vect.vocabulary_)\n",
    "\n",
    "vect_s = CountVectorizer(token_pattern=u\"(?u)\\\\b\\\\w+\\\\b\",min_df=4)\n",
    "vect_s.fit(songs_)\n",
    "len(vect_s.vocabulary_)\n",
    "\n",
    "vect_ti = CountVectorizer(token_pattern=u\"(?u)\\\\b\\\\w+\\\\b\",min_df=5)\n",
    "vect_ti.fit(title_)\n",
    "len(vect_ti.vocabulary_)\n",
    "\n",
    "train_  = vect.transform(tags_)\n",
    "train_s  = vect_s.transform(songs_)\n",
    "train_ti  = vect_ti.transform(title_)"
   ]
  },
  {
   "cell_type": "code",
   "execution_count": 2,
   "metadata": {},
   "outputs": [],
   "source": [
    "song_meta= load_json(\"song_meta.json\")\n",
    "\n",
    "genre_meta = load_json(\"genre_gn_all.json\")"
   ]
  },
  {
   "cell_type": "code",
   "execution_count": 3,
   "metadata": {},
   "outputs": [],
   "source": [
    "song_basket = []\n",
    "for i in songs:\n",
    "    basket = []\n",
    "    for j in i:\n",
    "        basket.append(int(j))\n",
    "    song_basket.append(basket)\n",
    "artist_basket=[]\n",
    "for  i in songs:\n",
    "    poo=[]\n",
    "    for  j in i:\n",
    "        poo.append(int(j))\n",
    "    artist_basket.append(poo)"
   ]
  },
  {
   "cell_type": "code",
   "execution_count": 4,
   "metadata": {},
   "outputs": [],
   "source": [
    "def get_genre_cross_playlist(tr_songs, song_meta):\n",
    "    genre_cross_playlist = []\n",
    "    for playlist in tr_songs:\n",
    "        genre = []\n",
    "        #print(playlist)\n",
    "        for song in playlist:\n",
    "            #genre.append(song)\n",
    "            genre.extend(song_meta[song][\"artist_name_basket\"])\n",
    "        genre_cross_playlist.append(genre)\n",
    "    return genre_cross_playlist\n",
    "\n",
    "b = get_genre_cross_playlist(artist_basket,song_meta)"
   ]
  },
  {
   "cell_type": "code",
   "execution_count": 5,
   "metadata": {},
   "outputs": [],
   "source": [
    "artist_ = [' '.join(sentence) for sentence in b]\n",
    "vect_artist = CountVectorizer(token_pattern=u\"(?u)\\\\b\\\\w+\\\\b\",min_df=3)\n",
    "vect_artist.fit(artist_)\n",
    "len(vect_artist.vocabulary_)\n",
    "train_artist  = vect_artist.transform(artist_)"
   ]
  },
  {
   "cell_type": "code",
   "execution_count": 6,
   "metadata": {},
   "outputs": [
    {
     "data": {
      "text/plain": [
       "<148826x48164 sparse matrix of type '<class 'numpy.int64'>'\n",
       "\twith 6812635 stored elements in Compressed Sparse Row format>"
      ]
     },
     "execution_count": 6,
     "metadata": {},
     "output_type": "execute_result"
    }
   ],
   "source": [
    "train_artist"
   ]
  },
  {
   "cell_type": "code",
   "execution_count": 7,
   "metadata": {},
   "outputs": [],
   "source": [
    "import random\n",
    "import copy\n",
    "def denoising(songs):\n",
    "    a= []\n",
    "    d = 1\n",
    "    for _list in songs:\n",
    "        sample_list = []\n",
    "        if len(_list) < 9:\n",
    "            a.append(_list)\n",
    "            d\n",
    "            continue\n",
    "        for i in range(1):\n",
    "            new_list = copy.deepcopy(_list)\n",
    "            for i in range(int(len(new_list) *0.3)):\n",
    "                new_list.remove(random.choice(new_list))\n",
    "            a.append(new_list)\n",
    "    return a"
   ]
  },
  {
   "cell_type": "code",
   "execution_count": 8,
   "metadata": {},
   "outputs": [
    {
     "data": {
      "text/plain": [
       "148826"
      ]
     },
     "execution_count": 8,
     "metadata": {},
     "output_type": "execute_result"
    }
   ],
   "source": [
    "ttags = denoising(tags)\n",
    "ssongs = denoising(songs)\n",
    "len(b)"
   ]
  },
  {
   "cell_type": "code",
   "execution_count": 9,
   "metadata": {},
   "outputs": [],
   "source": [
    "tags__ = [' '.join(sentence) for sentence in ttags]\n",
    "songs__ = [' '.join(sentence) for sentence in ssongs]\n",
    "#title__ = [' '.join(sentence) for sentence in aartist]\n",
    "\n",
    "train_d  = vect.transform(tags__)\n",
    "train_s_d  = vect_s.transform(songs__)\n",
    "#train_artist_d  = vect_artist.transform(title__)"
   ]
  },
  {
   "cell_type": "code",
   "execution_count": 10,
   "metadata": {},
   "outputs": [
    {
     "data": {
      "text/plain": [
       "(12381, 187516, 1393)"
      ]
     },
     "execution_count": 10,
     "metadata": {},
     "output_type": "execute_result"
    }
   ],
   "source": [
    "len(vect.vocabulary_),len(vect_s.vocabulary_),len(vect_ti.vocabulary_)"
   ]
  },
  {
   "cell_type": "code",
   "execution_count": 11,
   "metadata": {},
   "outputs": [
    {
     "data": {
      "text/plain": [
       "<148826x199897 sparse matrix of type '<class 'numpy.int64'>'\n",
       "\twith 4178615 stored elements in Compressed Sparse Row format>"
      ]
     },
     "execution_count": 11,
     "metadata": {},
     "output_type": "execute_result"
    }
   ],
   "source": [
    "import scipy\n",
    "from scipy.sparse import csr_matrix\n",
    "r = scipy.sparse.hstack([train_s_d,train_d])\n",
    "r = csr_matrix(r)\n",
    "r"
   ]
  },
  {
   "cell_type": "code",
   "execution_count": 12,
   "metadata": {},
   "outputs": [
    {
     "data": {
      "text/plain": [
       "<148826x199897 sparse matrix of type '<class 'numpy.int64'>'\n",
       "\twith 5740773 stored elements in Compressed Sparse Row format>"
      ]
     },
     "execution_count": 12,
     "metadata": {},
     "output_type": "execute_result"
    }
   ],
   "source": [
    "r_y = scipy.sparse.hstack([train_s,train_])\n",
    "r_y = csr_matrix(r_y)\n",
    "r_y"
   ]
  },
  {
   "cell_type": "code",
   "execution_count": 13,
   "metadata": {},
   "outputs": [
    {
     "data": {
      "text/plain": [
       "(<148826x199897 sparse matrix of type '<class 'numpy.int64'>'\n",
       " \twith 4178615 stored elements in Compressed Sparse Row format>,\n",
       " <148826x199897 sparse matrix of type '<class 'numpy.int64'>'\n",
       " \twith 5740773 stored elements in Compressed Sparse Row format>,\n",
       " <148826x48164 sparse matrix of type '<class 'numpy.int64'>'\n",
       " \twith 6812635 stored elements in Compressed Sparse Row format>)"
      ]
     },
     "execution_count": 13,
     "metadata": {},
     "output_type": "execute_result"
    }
   ],
   "source": [
    "r,r_y,train_artist"
   ]
  },
  {
   "cell_type": "code",
   "execution_count": 14,
   "metadata": {},
   "outputs": [
    {
     "data": {
      "text/plain": [
       "((<148826x12381 sparse matrix of type '<class 'numpy.int64'>'\n",
       "  \twith 450884 stored elements in Compressed Sparse Row format>,\n",
       "  <148826x187516 sparse matrix of type '<class 'numpy.int64'>'\n",
       "  \twith 3727731 stored elements in Compressed Sparse Row format>),\n",
       " (<148826x12381 sparse matrix of type '<class 'numpy.int64'>'\n",
       "  \twith 498134 stored elements in Compressed Sparse Row format>,\n",
       "  <148826x187516 sparse matrix of type '<class 'numpy.int64'>'\n",
       "  \twith 5242639 stored elements in Compressed Sparse Row format>),\n",
       " <148826x48164 sparse matrix of type '<class 'numpy.int64'>'\n",
       " \twith 6812635 stored elements in Compressed Sparse Row format>)"
      ]
     },
     "execution_count": 14,
     "metadata": {},
     "output_type": "execute_result"
    }
   ],
   "source": [
    "(train_d,train_s_d),(train_,train_s),train_artist"
   ]
  },
  {
   "cell_type": "code",
   "execution_count": 15,
   "metadata": {},
   "outputs": [
    {
     "name": "stderr",
     "output_type": "stream",
     "text": [
      "Using TensorFlow backend.\n"
     ]
    }
   ],
   "source": [
    "from keras.optimizers import Adam\n",
    "from keras.layers import Input, Dense, Dropout, Embedding, Flatten, add,Concatenate\n",
    "from keras.models import Model\n",
    "\n",
    "def autoEncoder(X):\n",
    "    '''\n",
    "    Autoencoder for Collaborative Filter Model\n",
    "    '''\n",
    "    users_items_matrix= X\n",
    "    #print(users_items_matrix.shape,content_info.shape)\n",
    "    \n",
    "    # Input\n",
    "    input_layer   = Input(shape=(users_items_matrix.shape[1],), name='UserScore')\n",
    "    #input_content = Input(shape=(content_info.shape[1],), name='Itemcontent')\n",
    "    \n",
    "    # Encoder\n",
    "    # -----------------------------\n",
    "    enc = Dense(256, activation='sigmoid', name='EncLayer1',bias_initializer='zeros',kernel_initializer='glorot_uniform')(input_layer)\n",
    "\n",
    "    # Content Information\n",
    "    #x_content = Embedding(48165, 50, input_length=content_info.shape[1])(input_content)\n",
    "    #x_content = Flatten()(x_content)\n",
    "    #x_content = Dense(128, activation='selu', \n",
    "    #                           name='ItemLatentSpace')(x_content)\n",
    "    # Latent Space\n",
    "    # -----------------------------\n",
    "    #lat_space = Dense(256, activation='sigmoid', name='UserLatentSpace')(enc)\n",
    "    \n",
    "    #lat_space= Concatenate(name='LatentSpace')([enc, x_content])\n",
    "    lat_space = Dropout(0.25, name='Dropout')(enc) # Dropout\n",
    "\n",
    "    # Decoder\n",
    "    # -----------------------------\n",
    "    dec = Dense(256, activation='sigmoid', name='DecLayer1')(lat_space)\n",
    "\n",
    "    # Output\n",
    "    output_layer = Dense(users_items_matrix.shape[1], activation='sigmoid', name='UserScorePred',bias_initializer='zeros',kernel_initializer='glorot_uniform')(dec)\n",
    "\n",
    "    # this model maps an input to its reconstruction\n",
    "    model = Model(input_layer, output_layer)    \n",
    "    \n",
    "    return model"
   ]
  },
  {
   "cell_type": "code",
   "execution_count": 16,
   "metadata": {},
   "outputs": [
    {
     "name": "stdout",
     "output_type": "stream",
     "text": [
      "WARNING:tensorflow:From /home/yjkim/anaconda3/envs/allml/lib/python3.7/site-packages/tensorflow/python/ops/resource_variable_ops.py:435: colocate_with (from tensorflow.python.framework.ops) is deprecated and will be removed in a future version.\n",
      "Instructions for updating:\n",
      "Colocations handled automatically by placer.\n",
      "Model: \"model_1\"\n",
      "_________________________________________________________________\n",
      "Layer (type)                 Output Shape              Param #   \n",
      "=================================================================\n",
      "UserScore (InputLayer)       (None, 199897)            0         \n",
      "_________________________________________________________________\n",
      "EncLayer1 (Dense)            (None, 256)               51173888  \n",
      "_________________________________________________________________\n",
      "Dropout (Dropout)            (None, 256)               0         \n",
      "_________________________________________________________________\n",
      "DecLayer1 (Dense)            (None, 256)               65792     \n",
      "_________________________________________________________________\n",
      "UserScorePred (Dense)        (None, 199897)            51373529  \n",
      "=================================================================\n",
      "Total params: 102,613,209\n",
      "Trainable params: 102,613,209\n",
      "Non-trainable params: 0\n",
      "_________________________________________________________________\n"
     ]
    }
   ],
   "source": [
    "from keras.utils import multi_gpu_model\n",
    "# Build model\n",
    "X = r\n",
    "model = autoEncoder(X)\n",
    "#model = multi_gpu_model(model, gpus=2)\n",
    "#model = multi_gpu_model(model, gpus=2)\n",
    "model.compile(optimizer = Adam(lr=0.01), loss='binary_crossentropy')\n",
    "    \n",
    "model.summary()"
   ]
  },
  {
   "cell_type": "code",
   "execution_count": 55,
   "metadata": {},
   "outputs": [
    {
     "data": {
      "text/plain": [
       "(<148826x48164 sparse matrix of type '<class 'numpy.int64'>'\n",
       " \twith 6812635 stored elements in Compressed Sparse Row format>,\n",
       " 115071,\n",
       " 23015,\n",
       " 10740,\n",
       " 148826)"
      ]
     },
     "execution_count": 55,
     "metadata": {},
     "output_type": "execute_result"
    }
   ],
   "source": [
    "train_artist,len(train),len(val),len(test),len(train)+len(val)+len(test)"
   ]
  },
  {
   "cell_type": "code",
   "execution_count": 60,
   "metadata": {},
   "outputs": [],
   "source": [
    "val_artist = train_artist[115071:115071+23015]"
   ]
  },
  {
   "cell_type": "code",
   "execution_count": 17,
   "metadata": {},
   "outputs": [
    {
     "data": {
      "text/plain": [
       "(<148826x199897 sparse matrix of type '<class 'numpy.int64'>'\n",
       " \twith 5740773 stored elements in Compressed Sparse Row format>,\n",
       " <148826x199897 sparse matrix of type '<class 'numpy.int64'>'\n",
       " \twith 4178615 stored elements in Compressed Sparse Row format>,\n",
       " <23015x199897 sparse matrix of type '<class 'numpy.int64'>'\n",
       " \twith 400286 stored elements in Compressed Sparse Row format>,\n",
       " <23015x199897 sparse matrix of type '<class 'numpy.int64'>'\n",
       " \twith 298913 stored elements in Compressed Sparse Row format>)"
      ]
     },
     "execution_count": 17,
     "metadata": {},
     "output_type": "execute_result"
    }
   ],
   "source": [
    "val_r_y=r_y[115071:115071+23015]\n",
    "val_r_x=r[115071:115071+23015]\n",
    "r_y,r,val_r_y,val_r_x"
   ]
  },
  {
   "cell_type": "code",
   "execution_count": null,
   "metadata": {},
   "outputs": [],
   "source": []
  },
  {
   "cell_type": "code",
   "execution_count": 18,
   "metadata": {},
   "outputs": [
    {
     "data": {
      "text/plain": [
       "(<148826x199897 sparse matrix of type '<class 'numpy.int64'>'\n",
       " \twith 4178615 stored elements in Compressed Sparse Row format>,\n",
       " <148826x199897 sparse matrix of type '<class 'numpy.int64'>'\n",
       " \twith 5740773 stored elements in Compressed Sparse Row format>,\n",
       " <23015x199897 sparse matrix of type '<class 'numpy.int64'>'\n",
       " \twith 298913 stored elements in Compressed Sparse Row format>,\n",
       " <23015x199897 sparse matrix of type '<class 'numpy.int64'>'\n",
       " \twith 400286 stored elements in Compressed Sparse Row format>)"
      ]
     },
     "execution_count": 18,
     "metadata": {},
     "output_type": "execute_result"
    }
   ],
   "source": [
    "r,r_y,val_r_x,val_r_y"
   ]
  },
  {
   "cell_type": "code",
   "execution_count": 19,
   "metadata": {},
   "outputs": [
    {
     "name": "stdout",
     "output_type": "stream",
     "text": [
      "WARNING:tensorflow:From /home/yjkim/anaconda3/envs/allml/lib/python3.7/site-packages/tensorflow/python/ops/math_ops.py:3066: to_int32 (from tensorflow.python.ops.math_ops) is deprecated and will be removed in a future version.\n",
      "Instructions for updating:\n",
      "Use tf.cast instead.\n",
      "Train on 148826 samples, validate on 23015 samples\n",
      "Epoch 1/30\n",
      "148826/148826 [==============================] - 349s 2ms/step - loss: 0.0021 - val_loss: 8.9559e-04\n",
      "\n",
      "Epoch 00001: val_loss improved from inf to 0.00090, saving model to /home/yjkim/new_melon_test/youngwook-melon/res/cmf/auto1/01-0.00090.hdf5\n",
      "Epoch 2/30\n",
      "148826/148826 [==============================] - 334s 2ms/step - loss: 0.0017 - val_loss: 8.9511e-04\n",
      "\n",
      "Epoch 00002: val_loss improved from 0.00090 to 0.00090, saving model to /home/yjkim/new_melon_test/youngwook-melon/res/cmf/auto1/02-0.00090.hdf5\n",
      "Epoch 3/30\n",
      "148826/148826 [==============================] - 312s 2ms/step - loss: 0.0017 - val_loss: 8.9195e-04\n",
      "\n",
      "Epoch 00003: val_loss improved from 0.00090 to 0.00089, saving model to /home/yjkim/new_melon_test/youngwook-melon/res/cmf/auto1/03-0.00089.hdf5\n",
      "Epoch 4/30\n",
      "148826/148826 [==============================] - 309s 2ms/step - loss: 0.0017 - val_loss: 8.9587e-04\n",
      "\n",
      "Epoch 00004: val_loss did not improve from 0.00089\n",
      "Epoch 5/30\n",
      "148826/148826 [==============================] - 306s 2ms/step - loss: 0.0017 - val_loss: 8.8988e-04\n",
      "\n",
      "Epoch 00005: val_loss improved from 0.00089 to 0.00089, saving model to /home/yjkim/new_melon_test/youngwook-melon/res/cmf/auto1/05-0.00089.hdf5\n",
      "Epoch 6/30\n",
      "148826/148826 [==============================] - 308s 2ms/step - loss: 0.0017 - val_loss: 8.9541e-04\n",
      "\n",
      "Epoch 00006: val_loss did not improve from 0.00089\n",
      "Epoch 7/30\n",
      "148826/148826 [==============================] - 309s 2ms/step - loss: 0.0017 - val_loss: 8.8731e-04\n",
      "\n",
      "Epoch 00007: val_loss improved from 0.00089 to 0.00089, saving model to /home/yjkim/new_melon_test/youngwook-melon/res/cmf/auto1/07-0.00089.hdf5\n",
      "Epoch 8/30\n",
      "148826/148826 [==============================] - 309s 2ms/step - loss: 0.0017 - val_loss: 8.9295e-04\n",
      "\n",
      "Epoch 00008: val_loss did not improve from 0.00089\n",
      "Epoch 9/30\n",
      "148826/148826 [==============================] - 305s 2ms/step - loss: 0.0017 - val_loss: 8.9534e-04\n",
      "\n",
      "Epoch 00009: val_loss did not improve from 0.00089\n",
      "Epoch 10/30\n",
      "148826/148826 [==============================] - 309s 2ms/step - loss: 0.0017 - val_loss: 8.9873e-04\n",
      "\n",
      "Epoch 00010: val_loss did not improve from 0.00089\n",
      "Epoch 11/30\n",
      "148826/148826 [==============================] - 310s 2ms/step - loss: 0.0017 - val_loss: 8.9224e-04\n",
      "\n",
      "Epoch 00011: val_loss did not improve from 0.00089\n",
      "Epoch 12/30\n",
      "148826/148826 [==============================] - 309s 2ms/step - loss: 0.0017 - val_loss: 8.8590e-04\n",
      "\n",
      "Epoch 00012: val_loss improved from 0.00089 to 0.00089, saving model to /home/yjkim/new_melon_test/youngwook-melon/res/cmf/auto1/12-0.00089.hdf5\n",
      "Epoch 13/30\n",
      "148826/148826 [==============================] - 306s 2ms/step - loss: 0.0017 - val_loss: 9.0012e-04\n",
      "\n",
      "Epoch 00013: val_loss did not improve from 0.00089\n",
      "Epoch 14/30\n",
      "148826/148826 [==============================] - 310s 2ms/step - loss: 0.0017 - val_loss: 9.0255e-04\n",
      "\n",
      "Epoch 00014: val_loss did not improve from 0.00089\n",
      "Epoch 15/30\n",
      "148826/148826 [==============================] - 310s 2ms/step - loss: 0.0017 - val_loss: 8.9239e-04\n",
      "\n",
      "Epoch 00015: val_loss did not improve from 0.00089\n",
      "Epoch 16/30\n",
      "148826/148826 [==============================] - 309s 2ms/step - loss: 0.0017 - val_loss: 9.0031e-04\n",
      "\n",
      "Epoch 00016: val_loss did not improve from 0.00089\n",
      "Epoch 17/30\n",
      "148826/148826 [==============================] - 308s 2ms/step - loss: 0.0017 - val_loss: 8.8533e-04\n",
      "\n",
      "Epoch 00017: val_loss improved from 0.00089 to 0.00089, saving model to /home/yjkim/new_melon_test/youngwook-melon/res/cmf/auto1/17-0.00089.hdf5\n",
      "Epoch 18/30\n",
      "148826/148826 [==============================] - 307s 2ms/step - loss: 0.0017 - val_loss: 8.8278e-04\n",
      "\n",
      "Epoch 00018: val_loss improved from 0.00089 to 0.00088, saving model to /home/yjkim/new_melon_test/youngwook-melon/res/cmf/auto1/18-0.00088.hdf5\n",
      "Epoch 19/30\n",
      "148826/148826 [==============================] - 310s 2ms/step - loss: 0.0016 - val_loss: 6.6549e-04\n",
      "\n",
      "Epoch 00019: val_loss improved from 0.00088 to 0.00067, saving model to /home/yjkim/new_melon_test/youngwook-melon/res/cmf/auto1/19-0.00067.hdf5\n",
      "Epoch 20/30\n",
      "148826/148826 [==============================] - 310s 2ms/step - loss: 0.0012 - val_loss: 5.6553e-04\n",
      "\n",
      "Epoch 00020: val_loss improved from 0.00067 to 0.00057, saving model to /home/yjkim/new_melon_test/youngwook-melon/res/cmf/auto1/20-0.00057.hdf5\n",
      "Epoch 21/30\n",
      "148826/148826 [==============================] - 309s 2ms/step - loss: 0.0011 - val_loss: 5.1558e-04\n",
      "\n",
      "Epoch 00021: val_loss improved from 0.00057 to 0.00052, saving model to /home/yjkim/new_melon_test/youngwook-melon/res/cmf/auto1/21-0.00052.hdf5\n",
      "Epoch 22/30\n",
      "148826/148826 [==============================] - 310s 2ms/step - loss: 9.9308e-04 - val_loss: 4.8548e-04\n",
      "\n",
      "Epoch 00022: val_loss improved from 0.00052 to 0.00049, saving model to /home/yjkim/new_melon_test/youngwook-melon/res/cmf/auto1/22-0.00049.hdf5\n",
      "Epoch 23/30\n",
      "148826/148826 [==============================] - 310s 2ms/step - loss: 9.4162e-04 - val_loss: 4.5979e-04\n",
      "\n",
      "Epoch 00023: val_loss improved from 0.00049 to 0.00046, saving model to /home/yjkim/new_melon_test/youngwook-melon/res/cmf/auto1/23-0.00046.hdf5\n",
      "Epoch 24/30\n",
      "148826/148826 [==============================] - 308s 2ms/step - loss: 9.0237e-04 - val_loss: 4.3970e-04\n",
      "\n",
      "Epoch 00024: val_loss improved from 0.00046 to 0.00044, saving model to /home/yjkim/new_melon_test/youngwook-melon/res/cmf/auto1/24-0.00044.hdf5\n",
      "Epoch 25/30\n",
      "148826/148826 [==============================] - 309s 2ms/step - loss: 8.7042e-04 - val_loss: 4.2421e-04\n",
      "\n",
      "Epoch 00025: val_loss improved from 0.00044 to 0.00042, saving model to /home/yjkim/new_melon_test/youngwook-melon/res/cmf/auto1/25-0.00042.hdf5\n",
      "Epoch 26/30\n",
      "148826/148826 [==============================] - 310s 2ms/step - loss: 8.4345e-04 - val_loss: 4.0815e-04\n",
      "\n",
      "Epoch 00026: val_loss improved from 0.00042 to 0.00041, saving model to /home/yjkim/new_melon_test/youngwook-melon/res/cmf/auto1/26-0.00041.hdf5\n",
      "Epoch 27/30\n",
      "148826/148826 [==============================] - 308s 2ms/step - loss: 8.2019e-04 - val_loss: 3.9503e-04\n",
      "\n",
      "Epoch 00027: val_loss improved from 0.00041 to 0.00040, saving model to /home/yjkim/new_melon_test/youngwook-melon/res/cmf/auto1/27-0.00040.hdf5\n",
      "Epoch 28/30\n",
      "148826/148826 [==============================] - 308s 2ms/step - loss: 7.9977e-04 - val_loss: 3.8466e-04\n",
      "\n",
      "Epoch 00028: val_loss improved from 0.00040 to 0.00038, saving model to /home/yjkim/new_melon_test/youngwook-melon/res/cmf/auto1/28-0.00038.hdf5\n",
      "Epoch 29/30\n",
      "148826/148826 [==============================] - 310s 2ms/step - loss: 7.8141e-04 - val_loss: 3.7337e-04\n",
      "\n",
      "Epoch 00029: val_loss improved from 0.00038 to 0.00037, saving model to /home/yjkim/new_melon_test/youngwook-melon/res/cmf/auto1/29-0.00037.hdf5\n",
      "Epoch 30/30\n",
      "148826/148826 [==============================] - 310s 2ms/step - loss: 7.6462e-04 - val_loss: 3.6048e-04\n",
      "\n",
      "Epoch 00030: val_loss improved from 0.00037 to 0.00036, saving model to /home/yjkim/new_melon_test/youngwook-melon/res/cmf/auto1/30-0.00036.hdf5\n"
     ]
    }
   ],
   "source": [
    "from keras.callbacks import EarlyStopping, ModelCheckpoint\n",
    "MODEL_SAVE_FOLDER_PATH = '/home/yjkim/new_melon_test/youngwook-melon/res/cmf/auto1/'\n",
    "if not os.path.exists(MODEL_SAVE_FOLDER_PATH):\n",
    "  os.mkdir(MODEL_SAVE_FOLDER_PATH)\n",
    "\n",
    "model_path = MODEL_SAVE_FOLDER_PATH + '{epoch:02d}-{val_loss:.5f}.hdf5'\n",
    "\n",
    "cb_checkpoint = ModelCheckpoint(filepath=model_path, monitor='val_loss',\n",
    "                                verbose=1, save_best_only=True)\n",
    "hist = model.fit(x=r, y=r_y,\n",
    "                 validation_data=(val_r_x, val_r_y),\n",
    "                  epochs=30,\n",
    "                  batch_size=32,\n",
    "                  shuffle=True,\n",
    "                  callbacks=[cb_checkpoint])"
   ]
  },
  {
   "cell_type": "code",
   "execution_count": 20,
   "metadata": {},
   "outputs": [
    {
     "name": "stdout",
     "output_type": "stream",
     "text": [
      "Train on 148826 samples, validate on 23015 samples\n",
      "Epoch 1/10\n",
      "148826/148826 [==============================] - 307s 2ms/step - loss: 7.4921e-04 - val_loss: 3.5359e-04\n",
      "\n",
      "Epoch 00001: val_loss improved from inf to 0.00035, saving model to /home/yjkim/new_melon_test/youngwook-melon/res/cmf/auto1/01-0.000354.hdf5\n",
      "Epoch 2/10\n",
      "148826/148826 [==============================] - 309s 2ms/step - loss: 7.3509e-04 - val_loss: 3.4358e-04\n",
      "\n",
      "Epoch 00002: val_loss improved from 0.00035 to 0.00034, saving model to /home/yjkim/new_melon_test/youngwook-melon/res/cmf/auto1/02-0.000344.hdf5\n",
      "Epoch 3/10\n",
      "148826/148826 [==============================] - 308s 2ms/step - loss: 7.2197e-04 - val_loss: 3.3515e-04\n",
      "\n",
      "Epoch 00003: val_loss improved from 0.00034 to 0.00034, saving model to /home/yjkim/new_melon_test/youngwook-melon/res/cmf/auto1/03-0.000335.hdf5\n",
      "Epoch 4/10\n",
      "148826/148826 [==============================] - 309s 2ms/step - loss: 7.0956e-04 - val_loss: 3.2701e-04\n",
      "\n",
      "Epoch 00004: val_loss improved from 0.00034 to 0.00033, saving model to /home/yjkim/new_melon_test/youngwook-melon/res/cmf/auto1/04-0.000327.hdf5\n",
      "Epoch 5/10\n",
      "148826/148826 [==============================] - 309s 2ms/step - loss: 6.9811e-04 - val_loss: 3.1879e-04\n",
      "\n",
      "Epoch 00005: val_loss improved from 0.00033 to 0.00032, saving model to /home/yjkim/new_melon_test/youngwook-melon/res/cmf/auto1/05-0.000319.hdf5\n",
      "Epoch 6/10\n",
      "148826/148826 [==============================] - 310s 2ms/step - loss: 6.8780e-04 - val_loss: 3.1220e-04\n",
      "\n",
      "Epoch 00006: val_loss improved from 0.00032 to 0.00031, saving model to /home/yjkim/new_melon_test/youngwook-melon/res/cmf/auto1/06-0.000312.hdf5\n",
      "Epoch 7/10\n",
      "148826/148826 [==============================] - 311s 2ms/step - loss: 6.7727e-04 - val_loss: 3.0452e-04\n",
      "\n",
      "Epoch 00007: val_loss improved from 0.00031 to 0.00030, saving model to /home/yjkim/new_melon_test/youngwook-melon/res/cmf/auto1/07-0.000305.hdf5\n",
      "Epoch 8/10\n",
      "148826/148826 [==============================] - 308s 2ms/step - loss: 6.6755e-04 - val_loss: 3.0042e-04\n",
      "\n",
      "Epoch 00008: val_loss improved from 0.00030 to 0.00030, saving model to /home/yjkim/new_melon_test/youngwook-melon/res/cmf/auto1/08-0.000300.hdf5\n",
      "Epoch 9/10\n",
      "148826/148826 [==============================] - 310s 2ms/step - loss: 6.5868e-04 - val_loss: 2.9188e-04\n",
      "\n",
      "Epoch 00009: val_loss improved from 0.00030 to 0.00029, saving model to /home/yjkim/new_melon_test/youngwook-melon/res/cmf/auto1/09-0.000292.hdf5\n",
      "Epoch 10/10\n",
      "148826/148826 [==============================] - 310s 2ms/step - loss: 6.5024e-04 - val_loss: 2.8797e-04\n",
      "\n",
      "Epoch 00010: val_loss improved from 0.00029 to 0.00029, saving model to /home/yjkim/new_melon_test/youngwook-melon/res/cmf/auto1/10-0.000288.hdf5\n"
     ]
    }
   ],
   "source": [
    "from keras.callbacks import EarlyStopping, ModelCheckpoint\n",
    "MODEL_SAVE_FOLDER_PATH = '/home/yjkim/new_melon_test/youngwook-melon/res/cmf/auto1/'\n",
    "if not os.path.exists(MODEL_SAVE_FOLDER_PATH):\n",
    "  os.mkdir(MODEL_SAVE_FOLDER_PATH)\n",
    "\n",
    "model_path = MODEL_SAVE_FOLDER_PATH + '{epoch:02d}-{val_loss:.6f}.hdf5'\n",
    "\n",
    "cb_checkpoint = ModelCheckpoint(filepath=model_path, monitor='val_loss',\n",
    "                                verbose=1, save_best_only=True)\n",
    "hist1 = model.fit(x=r, y=r_y,\n",
    "                 validation_data=(val_r_x, val_r_y),\n",
    "                  epochs=10,\n",
    "                  batch_size=32,\n",
    "                  shuffle=True,\n",
    "                  callbacks=[cb_checkpoint])"
   ]
  },
  {
   "cell_type": "code",
   "execution_count": null,
   "metadata": {},
   "outputs": [
    {
     "name": "stdout",
     "output_type": "stream",
     "text": [
      "Train on 148826 samples, validate on 23015 samples\n",
      "Epoch 1/10\n",
      "148826/148826 [==============================] - 309s 2ms/step - loss: 6.4192e-04 - val_loss: 2.8060e-04\n",
      "\n",
      "Epoch 00001: val_loss improved from inf to 0.00028, saving model to /home/yjkim/new_melon_test/youngwook-melon/res/cmf/auto1/01-0.0002806.hdf5\n",
      "Epoch 2/10\n",
      "148826/148826 [==============================] - 311s 2ms/step - loss: 6.3390e-04 - val_loss: 2.7525e-04\n",
      "\n",
      "Epoch 00002: val_loss improved from 0.00028 to 0.00028, saving model to /home/yjkim/new_melon_test/youngwook-melon/res/cmf/auto1/02-0.0002753.hdf5\n",
      "Epoch 3/10\n",
      "148826/148826 [==============================] - 309s 2ms/step - loss: 6.2645e-04 - val_loss: 2.6896e-04\n",
      "\n",
      "Epoch 00003: val_loss improved from 0.00028 to 0.00027, saving model to /home/yjkim/new_melon_test/youngwook-melon/res/cmf/auto1/03-0.0002690.hdf5\n",
      "Epoch 4/10\n",
      "148826/148826 [==============================] - 310s 2ms/step - loss: 6.1915e-04 - val_loss: 2.6417e-04\n",
      "\n",
      "Epoch 00004: val_loss improved from 0.00027 to 0.00026, saving model to /home/yjkim/new_melon_test/youngwook-melon/res/cmf/auto1/04-0.0002642.hdf5\n",
      "Epoch 5/10\n",
      "148826/148826 [==============================] - 309s 2ms/step - loss: 6.1210e-04 - val_loss: 2.5901e-04\n",
      "\n",
      "Epoch 00005: val_loss improved from 0.00026 to 0.00026, saving model to /home/yjkim/new_melon_test/youngwook-melon/res/cmf/auto1/05-0.0002590.hdf5\n",
      "Epoch 6/10\n",
      "148826/148826 [==============================] - 309s 2ms/step - loss: 6.0554e-04 - val_loss: 2.5556e-04\n",
      "\n",
      "Epoch 00006: val_loss improved from 0.00026 to 0.00026, saving model to /home/yjkim/new_melon_test/youngwook-melon/res/cmf/auto1/06-0.0002556.hdf5\n",
      "Epoch 7/10\n",
      "148826/148826 [==============================] - 311s 2ms/step - loss: 5.9935e-04 - val_loss: 2.5144e-04\n",
      "\n",
      "Epoch 00007: val_loss improved from 0.00026 to 0.00025, saving model to /home/yjkim/new_melon_test/youngwook-melon/res/cmf/auto1/07-0.0002514.hdf5\n",
      "Epoch 8/10\n",
      "148826/148826 [==============================] - 309s 2ms/step - loss: 5.9357e-04 - val_loss: 2.4826e-04\n",
      "\n",
      "Epoch 00008: val_loss improved from 0.00025 to 0.00025, saving model to /home/yjkim/new_melon_test/youngwook-melon/res/cmf/auto1/08-0.0002483.hdf5\n",
      "Epoch 9/10\n",
      "123168/148826 [=======================>......] - ETA: 49s - loss: 5.8514e-04"
     ]
    }
   ],
   "source": [
    "# from keras.callbacks import EarlyStopping, ModelCheckpoint\n",
    "# MODEL_SAVE_FOLDER_PATH = '/home/yjkim/new_melon_test/youngwook-melon/res/cmf/auto1/'\n",
    "# if not os.path.exists(MODEL_SAVE_FOLDER_PATH):\n",
    "#   os.mkdir(MODEL_SAVE_FOLDER_PATH)\n",
    "\n",
    "model_path = MODEL_SAVE_FOLDER_PATH + '{epoch:02d}-{val_loss:.7f}.hdf5'\n",
    "\n",
    "cb_checkpoint = ModelCheckpoint(filepath=model_path, monitor='val_loss',\n",
    "                                verbose=1, save_best_only=True)\n",
    "hist2 = model.fit(x=r, y=r_y,\n",
    "                 validation_data=(val_r_x, val_r_y),\n",
    "                  epochs=10,\n",
    "                  batch_size=32,\n",
    "                  shuffle=True,\n",
    "                  callbacks=[cb_checkpoint])"
   ]
  },
  {
   "cell_type": "code",
   "execution_count": 62,
   "metadata": {},
   "outputs": [
    {
     "data": {
      "image/png": "[encoded data removed]",
      "text/plain": [
       "<Figure size 432x288 with 1 Axes>"
      ]
     },
     "metadata": {
      "needs_background": "light"
     },
     "output_type": "display_data"
    }
   ],
   "source": [
    "import numpy\n",
    "%matplotlib inline\n",
    "import matplotlib.pyplot as plt\n",
    "\n",
    "y_vloss = hist.history['val_loss']\n",
    "y_loss = hist.history['loss']\n",
    "\n",
    "x_len = numpy.arange(len(y_loss))\n",
    "plt.plot(x_len, y_vloss, marker='.', c='red', label=\"Validation-set Loss\")\n",
    "plt.plot(x_len, y_loss, marker='.', c='blue', label=\"Train-set Loss\")\n",
    "\n",
    "plt.legend(loc='upper right')\n",
    "plt.grid()\n",
    "plt.xlabel('epoch')\n",
    "plt.ylabel('loss')\n",
    "plt.show()"
   ]
  },
  {
   "cell_type": "code",
   "execution_count": 36,
   "metadata": {},
   "outputs": [
    {
     "ename": "OSError",
     "evalue": "Unable to open file (unable to open file: name = '/home/yjkim/yj_melon/test/Recommenders/reco_utils/recommender/ncf/movie/newcount/64-0.0006.hdf5', errno = 2, error message = 'No such file or directory', flags = 0, o_flags = 0)",
     "output_type": "error",
     "traceback": [
      "\u001b[0;31m---------------------------------------------------------------------------\u001b[0m",
      "\u001b[0;31mOSError\u001b[0m                                   Traceback (most recent call last)",
      "\u001b[0;32m<ipython-input-36-b5d422c9a226>\u001b[0m in \u001b[0;36m<module>\u001b[0;34m\u001b[0m\n\u001b[0;32m----> 1\u001b[0;31m \u001b[0mmodel\u001b[0m\u001b[0;34m.\u001b[0m\u001b[0mload_weights\u001b[0m\u001b[0;34m(\u001b[0m\u001b[0;34m\"/home/yjkim/yj_melon/test/Recommenders/reco_utils/recommender/ncf/movie/newcount/64-0.0006.hdf5\"\u001b[0m\u001b[0;34m)\u001b[0m\u001b[0;34m\u001b[0m\u001b[0;34m\u001b[0m\u001b[0m\n\u001b[0m",
      "\u001b[0;32m~/anaconda3/envs/allml/lib/python3.7/site-packages/keras/engine/saving.py\u001b[0m in \u001b[0;36mload_wrapper\u001b[0;34m(*args, **kwargs)\u001b[0m\n\u001b[1;32m    490\u001b[0m                 \u001b[0mos\u001b[0m\u001b[0;34m.\u001b[0m\u001b[0mremove\u001b[0m\u001b[0;34m(\u001b[0m\u001b[0mtmp_filepath\u001b[0m\u001b[0;34m)\u001b[0m\u001b[0;34m\u001b[0m\u001b[0;34m\u001b[0m\u001b[0m\n\u001b[1;32m    491\u001b[0m             \u001b[0;32mreturn\u001b[0m \u001b[0mres\u001b[0m\u001b[0;34m\u001b[0m\u001b[0;34m\u001b[0m\u001b[0m\n\u001b[0;32m--> 492\u001b[0;31m         \u001b[0;32mreturn\u001b[0m \u001b[0mload_function\u001b[0m\u001b[0;34m(\u001b[0m\u001b[0;34m*\u001b[0m\u001b[0margs\u001b[0m\u001b[0;34m,\u001b[0m \u001b[0;34m**\u001b[0m\u001b[0mkwargs\u001b[0m\u001b[0;34m)\u001b[0m\u001b[0;34m\u001b[0m\u001b[0;34m\u001b[0m\u001b[0m\n\u001b[0m\u001b[1;32m    493\u001b[0m \u001b[0;34m\u001b[0m\u001b[0m\n\u001b[1;32m    494\u001b[0m     \u001b[0;32mreturn\u001b[0m \u001b[0mload_wrapper\u001b[0m\u001b[0;34m\u001b[0m\u001b[0;34m\u001b[0m\u001b[0m\n",
      "\u001b[0;32m~/anaconda3/envs/allml/lib/python3.7/site-packages/keras/engine/network.py\u001b[0m in \u001b[0;36mload_weights\u001b[0;34m(self, filepath, by_name, skip_mismatch, reshape)\u001b[0m\n\u001b[1;32m   1219\u001b[0m         \u001b[0;32mif\u001b[0m \u001b[0mh5py\u001b[0m \u001b[0;32mis\u001b[0m \u001b[0;32mNone\u001b[0m\u001b[0;34m:\u001b[0m\u001b[0;34m\u001b[0m\u001b[0;34m\u001b[0m\u001b[0m\n\u001b[1;32m   1220\u001b[0m             \u001b[0;32mraise\u001b[0m \u001b[0mImportError\u001b[0m\u001b[0;34m(\u001b[0m\u001b[0;34m'`load_weights` requires h5py.'\u001b[0m\u001b[0;34m)\u001b[0m\u001b[0;34m\u001b[0m\u001b[0;34m\u001b[0m\u001b[0m\n\u001b[0;32m-> 1221\u001b[0;31m         \u001b[0;32mwith\u001b[0m \u001b[0mh5py\u001b[0m\u001b[0;34m.\u001b[0m\u001b[0mFile\u001b[0m\u001b[0;34m(\u001b[0m\u001b[0mfilepath\u001b[0m\u001b[0;34m,\u001b[0m \u001b[0mmode\u001b[0m\u001b[0;34m=\u001b[0m\u001b[0;34m'r'\u001b[0m\u001b[0;34m)\u001b[0m \u001b[0;32mas\u001b[0m \u001b[0mf\u001b[0m\u001b[0;34m:\u001b[0m\u001b[0;34m\u001b[0m\u001b[0;34m\u001b[0m\u001b[0m\n\u001b[0m\u001b[1;32m   1222\u001b[0m             \u001b[0;32mif\u001b[0m \u001b[0;34m'layer_names'\u001b[0m \u001b[0;32mnot\u001b[0m \u001b[0;32min\u001b[0m \u001b[0mf\u001b[0m\u001b[0;34m.\u001b[0m\u001b[0mattrs\u001b[0m \u001b[0;32mand\u001b[0m \u001b[0;34m'model_weights'\u001b[0m \u001b[0;32min\u001b[0m \u001b[0mf\u001b[0m\u001b[0;34m:\u001b[0m\u001b[0;34m\u001b[0m\u001b[0;34m\u001b[0m\u001b[0m\n\u001b[1;32m   1223\u001b[0m                 \u001b[0mf\u001b[0m \u001b[0;34m=\u001b[0m \u001b[0mf\u001b[0m\u001b[0;34m[\u001b[0m\u001b[0;34m'model_weights'\u001b[0m\u001b[0;34m]\u001b[0m\u001b[0;34m\u001b[0m\u001b[0;34m\u001b[0m\u001b[0m\n",
      "\u001b[0;32m~/anaconda3/envs/allml/lib/python3.7/site-packages/h5py/_hl/files.py\u001b[0m in \u001b[0;36m__init__\u001b[0;34m(self, name, mode, driver, libver, userblock_size, swmr, rdcc_nslots, rdcc_nbytes, rdcc_w0, track_order, **kwds)\u001b[0m\n\u001b[1;32m    392\u001b[0m                 fid = make_fid(name, mode, userblock_size,\n\u001b[1;32m    393\u001b[0m                                \u001b[0mfapl\u001b[0m\u001b[0;34m,\u001b[0m \u001b[0mfcpl\u001b[0m\u001b[0;34m=\u001b[0m\u001b[0mmake_fcpl\u001b[0m\u001b[0;34m(\u001b[0m\u001b[0mtrack_order\u001b[0m\u001b[0;34m=\u001b[0m\u001b[0mtrack_order\u001b[0m\u001b[0;34m)\u001b[0m\u001b[0;34m,\u001b[0m\u001b[0;34m\u001b[0m\u001b[0;34m\u001b[0m\u001b[0m\n\u001b[0;32m--> 394\u001b[0;31m                                swmr=swmr)\n\u001b[0m\u001b[1;32m    395\u001b[0m \u001b[0;34m\u001b[0m\u001b[0m\n\u001b[1;32m    396\u001b[0m             \u001b[0;32mif\u001b[0m \u001b[0mswmr_support\u001b[0m\u001b[0;34m:\u001b[0m\u001b[0;34m\u001b[0m\u001b[0;34m\u001b[0m\u001b[0m\n",
      "\u001b[0;32m~/anaconda3/envs/allml/lib/python3.7/site-packages/h5py/_hl/files.py\u001b[0m in \u001b[0;36mmake_fid\u001b[0;34m(name, mode, userblock_size, fapl, fcpl, swmr)\u001b[0m\n\u001b[1;32m    168\u001b[0m         \u001b[0;32mif\u001b[0m \u001b[0mswmr\u001b[0m \u001b[0;32mand\u001b[0m \u001b[0mswmr_support\u001b[0m\u001b[0;34m:\u001b[0m\u001b[0;34m\u001b[0m\u001b[0;34m\u001b[0m\u001b[0m\n\u001b[1;32m    169\u001b[0m             \u001b[0mflags\u001b[0m \u001b[0;34m|=\u001b[0m \u001b[0mh5f\u001b[0m\u001b[0;34m.\u001b[0m\u001b[0mACC_SWMR_READ\u001b[0m\u001b[0;34m\u001b[0m\u001b[0;34m\u001b[0m\u001b[0m\n\u001b[0;32m--> 170\u001b[0;31m         \u001b[0mfid\u001b[0m \u001b[0;34m=\u001b[0m \u001b[0mh5f\u001b[0m\u001b[0;34m.\u001b[0m\u001b[0mopen\u001b[0m\u001b[0;34m(\u001b[0m\u001b[0mname\u001b[0m\u001b[0;34m,\u001b[0m \u001b[0mflags\u001b[0m\u001b[0;34m,\u001b[0m \u001b[0mfapl\u001b[0m\u001b[0;34m=\u001b[0m\u001b[0mfapl\u001b[0m\u001b[0;34m)\u001b[0m\u001b[0;34m\u001b[0m\u001b[0;34m\u001b[0m\u001b[0m\n\u001b[0m\u001b[1;32m    171\u001b[0m     \u001b[0;32melif\u001b[0m \u001b[0mmode\u001b[0m \u001b[0;34m==\u001b[0m \u001b[0;34m'r+'\u001b[0m\u001b[0;34m:\u001b[0m\u001b[0;34m\u001b[0m\u001b[0;34m\u001b[0m\u001b[0m\n\u001b[1;32m    172\u001b[0m         \u001b[0mfid\u001b[0m \u001b[0;34m=\u001b[0m \u001b[0mh5f\u001b[0m\u001b[0;34m.\u001b[0m\u001b[0mopen\u001b[0m\u001b[0;34m(\u001b[0m\u001b[0mname\u001b[0m\u001b[0;34m,\u001b[0m \u001b[0mh5f\u001b[0m\u001b[0;34m.\u001b[0m\u001b[0mACC_RDWR\u001b[0m\u001b[0;34m,\u001b[0m \u001b[0mfapl\u001b[0m\u001b[0;34m=\u001b[0m\u001b[0mfapl\u001b[0m\u001b[0;34m)\u001b[0m\u001b[0;34m\u001b[0m\u001b[0;34m\u001b[0m\u001b[0m\n",
      "\u001b[0;32mh5py/_objects.pyx\u001b[0m in \u001b[0;36mh5py._objects.with_phil.wrapper\u001b[0;34m()\u001b[0m\n",
      "\u001b[0;32mh5py/_objects.pyx\u001b[0m in \u001b[0;36mh5py._objects.with_phil.wrapper\u001b[0;34m()\u001b[0m\n",
      "\u001b[0;32mh5py/h5f.pyx\u001b[0m in \u001b[0;36mh5py.h5f.open\u001b[0;34m()\u001b[0m\n",
      "\u001b[0;31mOSError\u001b[0m: Unable to open file (unable to open file: name = '/home/yjkim/yj_melon/test/Recommenders/reco_utils/recommender/ncf/movie/newcount/64-0.0006.hdf5', errno = 2, error message = 'No such file or directory', flags = 0, o_flags = 0)"
     ]
    }
   ],
   "source": [
    "model.load_weights(\"/home/yjkim/yj_melon/test/Recommenders/reco_utils/recommender/ncf/movie/newcount/64-0.0006.hdf5\")"
   ]
  },
  {
   "cell_type": "code",
   "execution_count": null,
   "metadata": {},
   "outputs": [],
   "source": [
    "val\n",
    "t_val = []\n",
    "s_val = []\n",
    "play_val = []\n",
    "for i in range(len(val)):\n",
    "    t_val.append(val[i][\"tags\"])\n",
    "    s_val.append(val[i][\"songs\"])\n",
    "    play_val.append(val[i][\"plylst_title\"])\n",
    "\n",
    "songs_val = []\n",
    "for i in s_val:\n",
    "    abc = []\n",
    "    for j in i:\n",
    "        abc.append(str(j))  \n",
    "    songs_val.append(abc)"
   ]
  },
  {
   "cell_type": "code",
   "execution_count": 26,
   "metadata": {},
   "outputs": [],
   "source": [
    "songs_v = [' '.join(sentence) for sentence in songs_val]"
   ]
  },
  {
   "cell_type": "code",
   "execution_count": 27,
   "metadata": {},
   "outputs": [],
   "source": [
    "train_s_val_data  = vect_s.transform(songs_v)"
   ]
  },
  {
   "cell_type": "code",
   "execution_count": 28,
   "metadata": {},
   "outputs": [
    {
     "data": {
      "text/plain": [
       "<23015x156348 sparse matrix of type '<class 'numpy.int64'>'\n",
       "\twith 365022 stored elements in Compressed Sparse Row format>"
      ]
     },
     "execution_count": 28,
     "metadata": {},
     "output_type": "execute_result"
    }
   ],
   "source": [
    "train_s_val_data"
   ]
  },
  {
   "cell_type": "code",
   "execution_count": null,
   "metadata": {},
   "outputs": [],
   "source": [
    "import random\n",
    "import copy\n",
    "a= []\n",
    "d = 1\n",
    "for _list in songs:\n",
    "    sample_list = []\n",
    "    if len(_list) < 9:\n",
    "        a.append(_list)\n",
    "        d\n",
    "        continue\n",
    "    for i in range(1):\n",
    "        new_list = copy.deepcopy(_list)\n",
    "        for i in range(int(len(new_list) *0.3)):\n",
    "            new_list.remove(random.choice(new_list))\n",
    "        a.append(new_list)"
   ]
  },
  {
   "cell_type": "code",
   "execution_count": 52,
   "metadata": {},
   "outputs": [
    {
     "data": {
      "text/plain": [
       "(<23015x156348 sparse matrix of type '<class 'numpy.int64'>'\n",
       " \twith 365022 stored elements in Compressed Sparse Row format>,\n",
       " <23015x156348 sparse matrix of type '<class 'numpy.int64'>'\n",
       " \twith 266101 stored elements in Compressed Sparse Row format>)"
      ]
     },
     "execution_count": 52,
     "metadata": {},
     "output_type": "execute_result"
    }
   ],
   "source": [
    "val_data_y_,val_data_x_"
   ]
  },
  {
   "cell_type": "code",
   "execution_count": 29,
   "metadata": {},
   "outputs": [],
   "source": [
    "tname = vect.get_feature_names\n",
    "def recommender_for_user(user_id, interact_matrix,  topn = 10):\n",
    "\n",
    "    pred_scores = interact_matrix.loc[user_id].values\n",
    "    #print(pred_scores,len(pred_scores),df.columns[57061:],len(df.columns[57061:]))\n",
    "    df_scores   = pd.DataFrame({'content_id': tname, \n",
    "                               'score': pred_scores})\n",
    "\n",
    "    df_rec      = df_scores.set_index('content_id')\\\n",
    "                    .sort_values('score', ascending=False)\\\n",
    "                    .head(topn)[[\"score\"]]\n",
    "    return df_rec[df_rec.score > 0]\n",
    "fname = vect_s.get_feature_names()\n",
    "def recommender_for_user_s(user_id, interact_matrix,  topn = 100):\n",
    "    \n",
    "    pred_scores = interact_matrix.loc[user_id].values\n",
    "    #print(pred_scores)\n",
    "    #print(list(song_predict)[0:10])\n",
    "    df_scores   = pd.DataFrame({'content_id': fname, \n",
    "                               'score': pred_scores})\n",
    "\n",
    "    df_rec      = df_scores.set_index('content_id')\\\n",
    "                    .sort_values('score', ascending=False)\\\n",
    "                    .head(topn)[[\"score\"]]\n",
    "    return df_rec[df_rec.score > 0]\n",
    "def select_top_n(names, scores, topn):\n",
    "    #return sorted(enumerate(names), key=lambda item: scores[item[0]], reverse=True)\n",
    "    return list(zip(*sorted(enumerate(names), key=lambda item: scores[item[0]], reverse=True)[:topn]))[1]"
   ]
  },
  {
   "cell_type": "code",
   "execution_count": 30,
   "metadata": {},
   "outputs": [],
   "source": [
    "import copy\n",
    "val_copy = copy.deepcopy(val)"
   ]
  },
  {
   "cell_type": "code",
   "execution_count": null,
   "metadata": {},
   "outputs": [
    {
     "name": "stderr",
     "output_type": "stream",
     "text": [
      "5423it [18:24,  5.07it/s]"
     ]
    }
   ],
   "source": [
    "import numpy as np\n",
    "import pandas as pd\n",
    "from tqdm import tqdm\n",
    "for i,check in tqdm(enumerate(model.predict(val_data_y_))):\n",
    "    new_matrix = (val_data_y_[i].toarray()==0)*(check - np.min(check))\n",
    "    #val_copy[i][\"songs\"] = select_top_n(names = fname, scores=new_matrix[0,:], topn=100)\n",
    "    \n",
    "    \n",
    "    song_predict = pd.DataFrame(new_matrix[:,:])\n",
    "    #print(\"Model prediction00: {}s\".format(time.time() - start_time))\n",
    "    #start_time = time.time()\n",
    "\n",
    "    song_predict.columns=fname\n",
    "    #print(\"Model prediction01: {}s\".format(time.time() - start_time))\n",
    "    #start_time = time.time()\n",
    "\n",
    "\n",
    "    #print(\"Model prediction2: {}s\".format(time.time() - start_time))\n",
    "    #start_time = time.time()\n",
    "\n",
    "    #tags_predict = pd.DataFrame(new_matrix[:,615142:])\n",
    "    #tags_predict.columns=vect.get_feature_names()\n",
    "    #print(recommender_for_user(user_id = i, interact_matrix = df)[\"score\"].index.tolist())\n",
    "    #print(val_[i][\"songs\"])\n",
    "    #val[i][\"tags\"] = recommender_for_user(user_id = 0, interact_matrix = tags_predict)[\"score\"].index.tolist()\n",
    "    val_copy[i][\"songs\"] = recommender_for_user_s(user_id = 0, interact_matrix = song_predict)[\"score\"].index.tolist()\n",
    "#     print(\"Model prediction3: {}s\".format(time.time() - start_time))\n",
    "#     start_time = time.time()\n",
    "\n",
    "#     print(val[i][\"songs\"] == top_songs, top_songs)"
   ]
  },
  {
   "cell_type": "code",
   "execution_count": 121,
   "metadata": {},
   "outputs": [
    {
     "data": {
      "text/plain": [
       "{'tags': [],\n",
       " 'id': 45144,\n",
       " 'plylst_title': '',\n",
       " 'songs': ['152422',\n",
       "  '643628',\n",
       "  '610933',\n",
       "  '224921',\n",
       "  '205179',\n",
       "  '215411',\n",
       "  '427724',\n",
       "  '209135',\n",
       "  '497066',\n",
       "  '463173',\n",
       "  '627363',\n",
       "  '485155',\n",
       "  '680366',\n",
       "  '116573',\n",
       "  '424813',\n",
       "  '449244',\n",
       "  '11657',\n",
       "  '366786',\n",
       "  '357367',\n",
       "  '645489',\n",
       "  '90557',\n",
       "  '349492',\n",
       "  '547967',\n",
       "  '523521',\n",
       "  '396828',\n",
       "  '675115',\n",
       "  '235773',\n",
       "  '663256',\n",
       "  '668128',\n",
       "  '174749',\n",
       "  '674160',\n",
       "  '422077',\n",
       "  '648628',\n",
       "  '169984',\n",
       "  '672550',\n",
       "  '531820',\n",
       "  '154858',\n",
       "  '520093',\n",
       "  '654757',\n",
       "  '207558',\n",
       "  '407828',\n",
       "  '701557',\n",
       "  '153271',\n",
       "  '187047',\n",
       "  '42155',\n",
       "  '442014',\n",
       "  '19811',\n",
       "  '144663',\n",
       "  '582252',\n",
       "  '581799',\n",
       "  '554751',\n",
       "  '44603',\n",
       "  '117595',\n",
       "  '464051',\n",
       "  '339802',\n",
       "  '486705',\n",
       "  '300087',\n",
       "  '350309',\n",
       "  '518420',\n",
       "  '253755',\n",
       "  '133143',\n",
       "  '246531',\n",
       "  '209993',\n",
       "  '448116',\n",
       "  '15124',\n",
       "  '307896',\n",
       "  '295250',\n",
       "  '553171',\n",
       "  '177460',\n",
       "  '6546',\n",
       "  '571016',\n",
       "  '76888',\n",
       "  '118219',\n",
       "  '202564',\n",
       "  '653733',\n",
       "  '678762',\n",
       "  '625875',\n",
       "  '626369',\n",
       "  '422915',\n",
       "  '341513',\n",
       "  '348200',\n",
       "  '13281',\n",
       "  '509998',\n",
       "  '95485',\n",
       "  '131310',\n",
       "  '27469',\n",
       "  '37748',\n",
       "  '41912',\n",
       "  '212654',\n",
       "  '152475',\n",
       "  '318762',\n",
       "  '705515',\n",
       "  '68348',\n",
       "  '549178',\n",
       "  '245317',\n",
       "  '67655',\n",
       "  '409058',\n",
       "  '246984',\n",
       "  '199262',\n",
       "  '414940'],\n",
       " 'like_cnt': 20,\n",
       " 'updt_date': '2017-10-30 18:15:43.000'}"
      ]
     },
     "execution_count": 121,
     "metadata": {},
     "output_type": "execute_result"
    }
   ],
   "source": [
    "val_copy[3]"
   ]
  },
  {
   "cell_type": "code",
   "execution_count": 32,
   "metadata": {},
   "outputs": [
    {
     "data": {
      "text/plain": [
       "{'tags': [],\n",
       " 'id': 45144,\n",
       " 'plylst_title': '',\n",
       " 'songs': ['288763',\n",
       "  '618392',\n",
       "  '396828',\n",
       "  '284992',\n",
       "  '351888',\n",
       "  '442014',\n",
       "  '668720',\n",
       "  '348398',\n",
       "  '661449',\n",
       "  '198487',\n",
       "  '522350',\n",
       "  '70185',\n",
       "  '491536',\n",
       "  '105140',\n",
       "  '624827',\n",
       "  '4185',\n",
       "  '549392',\n",
       "  '672541',\n",
       "  '349492',\n",
       "  '199262',\n",
       "  '479944',\n",
       "  '404524',\n",
       "  '451359',\n",
       "  '586684',\n",
       "  '131701',\n",
       "  '367963',\n",
       "  '10961',\n",
       "  '625254',\n",
       "  '622923',\n",
       "  '305045',\n",
       "  '509998',\n",
       "  '106017',\n",
       "  '442543',\n",
       "  '71727',\n",
       "  '453718',\n",
       "  '123485',\n",
       "  '205247',\n",
       "  '663492',\n",
       "  '61170',\n",
       "  '683085',\n",
       "  '324779',\n",
       "  '289121',\n",
       "  '297924',\n",
       "  '174749',\n",
       "  '113664',\n",
       "  '29035',\n",
       "  '64930',\n",
       "  '41404',\n",
       "  '513756',\n",
       "  '642555',\n",
       "  '662914',\n",
       "  '214494',\n",
       "  '87722',\n",
       "  '215132',\n",
       "  '218839',\n",
       "  '49147',\n",
       "  '102980',\n",
       "  '527296',\n",
       "  '384299',\n",
       "  '28788',\n",
       "  '24257',\n",
       "  '388675',\n",
       "  '210',\n",
       "  '701323',\n",
       "  '333232',\n",
       "  '422915',\n",
       "  '56352',\n",
       "  '331958',\n",
       "  '535399',\n",
       "  '498219',\n",
       "  '495890',\n",
       "  '482716',\n",
       "  '582252',\n",
       "  '61159',\n",
       "  '443425',\n",
       "  '253425',\n",
       "  '345321',\n",
       "  '241002',\n",
       "  '325233',\n",
       "  '21725',\n",
       "  '131295',\n",
       "  '240250',\n",
       "  '162052',\n",
       "  '144663',\n",
       "  '123837',\n",
       "  '675823',\n",
       "  '564698',\n",
       "  '227867',\n",
       "  '152422',\n",
       "  '165230',\n",
       "  '454622',\n",
       "  '408772',\n",
       "  '20398',\n",
       "  '459543',\n",
       "  '478754',\n",
       "  '284879',\n",
       "  '75971',\n",
       "  '616038',\n",
       "  '683396',\n",
       "  '196653'],\n",
       " 'like_cnt': 20,\n",
       " 'updt_date': '2017-10-30 18:15:43.000'}"
      ]
     },
     "execution_count": 32,
     "metadata": {},
     "output_type": "execute_result"
    }
   ],
   "source": [
    "val_copy[3]"
   ]
  },
  {
   "cell_type": "code",
   "execution_count": 33,
   "metadata": {},
   "outputs": [],
   "source": [
    "import json\n",
    "def load_json(fname):\n",
    "    with open(fname, encoding=\"UTF-8\") as f:\n",
    "        json_obj = json.load(f)\n",
    "\n",
    "    return json_obj\n",
    "\n",
    "\n",
    "#dap2 = load_json(\"2.json\")\n",
    "dap50 = load_json(\"dab.json\")"
   ]
  },
  {
   "cell_type": "code",
   "execution_count": 34,
   "metadata": {},
   "outputs": [],
   "source": [
    "for i in range(len(dap50)):\n",
    "    dap50[i][\"songs\"] = val_copy[i][\"songs\"]\n",
    "    \n",
    "for i in range(len(dap50)):\n",
    "    for j in range(len(dap50[i][\"songs\"])):\n",
    "        dap50[i][\"songs\"][j] = int(dap50[i][\"songs\"][j])\n",
    "        \n",
    "        \n",
    "with open(\"resu_t.json\", \"w\") as outfile:\n",
    "        json.dump(dap50, outfile, ensure_ascii=False, indent=4)"
   ]
  },
  {
   "cell_type": "code",
   "execution_count": 102,
   "metadata": {
    "collapsed": true,
    "jupyter": {
     "outputs_hidden": true
    }
   },
   "outputs": [
    {
     "data": {
      "text/plain": [
       "{'id': 45144,\n",
       " 'songs': [144663,\n",
       "  367963,\n",
       "  174749,\n",
       "  357367,\n",
       "  171798,\n",
       "  497066,\n",
       "  697100,\n",
       "  116573,\n",
       "  295250,\n",
       "  418935,\n",
       "  610933,\n",
       "  224921,\n",
       "  245317,\n",
       "  446812,\n",
       "  178044,\n",
       "  553171,\n",
       "  440160,\n",
       "  6546,\n",
       "  246531,\n",
       "  576186,\n",
       "  224609,\n",
       "  531820,\n",
       "  281838,\n",
       "  10961,\n",
       "  608260,\n",
       "  377243,\n",
       "  45476,\n",
       "  449244,\n",
       "  623725,\n",
       "  77951,\n",
       "  668763,\n",
       "  232874,\n",
       "  586653,\n",
       "  67655,\n",
       "  478754,\n",
       "  210647,\n",
       "  112153,\n",
       "  423649,\n",
       "  532347,\n",
       "  305045,\n",
       "  185174,\n",
       "  283138,\n",
       "  19533,\n",
       "  102980,\n",
       "  244565,\n",
       "  322491,\n",
       "  495830,\n",
       "  122363,\n",
       "  165281,\n",
       "  398805,\n",
       "  582252,\n",
       "  516653,\n",
       "  234921,\n",
       "  553786,\n",
       "  182201,\n",
       "  366786,\n",
       "  562482,\n",
       "  333070,\n",
       "  284992,\n",
       "  339802,\n",
       "  384059,\n",
       "  27469,\n",
       "  343974,\n",
       "  283780,\n",
       "  125822,\n",
       "  482716,\n",
       "  37748,\n",
       "  234999,\n",
       "  278995,\n",
       "  532114,\n",
       "  443902,\n",
       "  627363,\n",
       "  321643,\n",
       "  43471,\n",
       "  707724,\n",
       "  334539,\n",
       "  519391,\n",
       "  611737,\n",
       "  140130,\n",
       "  594592,\n",
       "  564336,\n",
       "  567650,\n",
       "  13281,\n",
       "  298103,\n",
       "  701557,\n",
       "  286273,\n",
       "  549392,\n",
       "  50428,\n",
       "  486705,\n",
       "  17107,\n",
       "  166841,\n",
       "  581789,\n",
       "  98472,\n",
       "  505036,\n",
       "  509998,\n",
       "  307896,\n",
       "  351888,\n",
       "  596663,\n",
       "  450661,\n",
       "  675115],\n",
       " 'tags': ['이별', '사랑', '발라드', '감성', '기분전환', '새벽', '눈물', '카페', '잔잔한', '비오는날']}"
      ]
     },
     "execution_count": 102,
     "metadata": {},
     "output_type": "execute_result"
    }
   ],
   "source": [
    "dap50[3]"
   ]
  },
  {
   "cell_type": "code",
   "execution_count": 4,
   "metadata": {},
   "outputs": [],
   "source": []
  },
  {
   "cell_type": "code",
   "execution_count": 5,
   "metadata": {},
   "outputs": [
    {
     "data": {
      "text/plain": [
       "19"
      ]
     },
     "execution_count": 5,
     "metadata": {},
     "output_type": "execute_result"
    }
   ],
   "source": [
    "len(songs[0])"
   ]
  },
  {
   "cell_type": "code",
   "execution_count": 6,
   "metadata": {},
   "outputs": [
    {
     "data": {
      "text/plain": [
       "14"
      ]
     },
     "execution_count": 6,
     "metadata": {},
     "output_type": "execute_result"
    }
   ],
   "source": [
    "len(a[0])"
   ]
  },
  {
   "cell_type": "code",
   "execution_count": 7,
   "metadata": {},
   "outputs": [],
   "source": []
  },
  {
   "cell_type": "code",
   "execution_count": 10,
   "metadata": {},
   "outputs": [
    {
     "data": {
      "text/plain": [
       "<1x156348 sparse matrix of type '<class 'numpy.int64'>'\n",
       "\twith 38 stored elements in Compressed Sparse Row format>"
      ]
     },
     "execution_count": 10,
     "metadata": {},
     "output_type": "execute_result"
    }
   ],
   "source": [
    "train_s[1]"
   ]
  },
  {
   "cell_type": "code",
   "execution_count": 35,
   "metadata": {},
   "outputs": [
    {
     "data": {
      "text/plain": [
       "19"
      ]
     },
     "execution_count": 35,
     "metadata": {},
     "output_type": "execute_result"
    }
   ],
   "source": [
    "len(train[0][\"songs\"])"
   ]
  },
  {
   "cell_type": "code",
   "execution_count": null,
   "metadata": {},
   "outputs": [],
   "source": [
    "1"
   ]
  },
  {
   "cell_type": "code",
   "execution_count": null,
   "metadata": {},
   "outputs": [],
   "source": [
    "1"
   ]
  },
  {
   "cell_type": "code",
   "execution_count": null,
   "metadata": {},
   "outputs": [],
   "source": []
  }
 ],
 "metadata": {
  "kernelspec": {
   "display_name": "EasyDeep",
   "language": "python",
   "name": "easydeep"
  },
  "language_info": {
   "codemirror_mode": {
    "name": "ipython",
    "version": 3
   },
   "file_extension": ".py",
   "mimetype": "text/x-python",
   "name": "python",
   "nbconvert_exporter": "python",
   "pygments_lexer": "ipython3",
   "version": "3.7.5"
  }
 },
 "nbformat": 4,
 "nbformat_minor": 4
}
