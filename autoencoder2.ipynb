{
 "cells": [
  {
   "cell_type": "code",
   "execution_count": 77,
   "metadata": {},
   "outputs": [],
   "source": [
    "import tensorflow as tf\n",
    "import os\n",
    "os.environ['CUDA_VISIBLE_DEVICES'] = \"0\" # 할당된 gpu 번호\n",
    "#config = tf.compat.v1.ConfigProto()\n",
    "#config.gpu_options.per_process_gpu_memory_fraction = 0.99\n",
    "#session = tf.compat.v1.Session(config=config)\n",
    "import json\n",
    "def load_json(fname):\n",
    "    with open(fname) as f:\n",
    "        json_obj = json.load(f)\n",
    "\n",
    "    return json_obj\n",
    "train = load_json(\"train.json\")\n",
    "val = load_json(\"val.json\")\n",
    "test = load_json(\"test.json\")\n",
    "# for i in range(len(val)):\n",
    "#     train.append(val[i])\n",
    "data = train+val+test\n",
    "s = []\n",
    "t =[]\n",
    "play_ = []\n",
    "for i in range(len(data)):\n",
    "    t.append(data[i][\"tags\"])\n",
    "    s.append(data[i][\"songs\"])\n",
    "    play_.append(data[i][\"plylst_title\"])\n",
    "    \n",
    "tags = []\n",
    "for i in t:\n",
    "    abc = []\n",
    "    for j in i:\n",
    "        abc.append(str(j))  \n",
    "    tags.append(abc)\n",
    "songs = []\n",
    "for i in s:\n",
    "    abc = []\n",
    "    for j in i:\n",
    "        abc.append(str(j))  \n",
    "    songs.append(abc)\n",
    "title = []\n",
    "for i in play_:\n",
    "    abc = []\n",
    "    for j in i:\n",
    "        abc.append(str(j))  \n",
    "    title.append(abc)\n",
    "\n",
    "tags_ = [' '.join(sentence) for sentence in tags]\n",
    "songs_ = [' '.join(sentence) for sentence in songs]\n",
    "title_ = [' '.join(sentence) for sentence in title]\n",
    "\n",
    "\n",
    "from sklearn.feature_extraction.text import CountVectorizer\n",
    "\n",
    "vect = CountVectorizer(token_pattern=u\"(?u)\\\\b\\\\w+\\\\b\", min_df=2)\n",
    "vect.fit(tags_)\n",
    "len(vect.vocabulary_)\n",
    "\n",
    "vect_s = CountVectorizer(token_pattern=u\"(?u)\\\\b\\\\w+\\\\b\",min_df=2)\n",
    "vect_s.fit(songs_)\n",
    "len(vect_s.vocabulary_)\n",
    "\n",
    "vect_ti = CountVectorizer(token_pattern=u\"(?u)\\\\b\\\\w+\\\\b\",min_df=5)\n",
    "vect_ti.fit(title_)\n",
    "len(vect_ti.vocabulary_)\n",
    "\n",
    "train_  = vect.transform(tags_)\n",
    "train_s  = vect_s.transform(songs_)\n",
    "train_ti  = vect_ti.transform(title_)"
   ]
  },
  {
   "cell_type": "code",
   "execution_count": 78,
   "metadata": {},
   "outputs": [],
   "source": [
    "song_meta= load_json(\"song_meta.json\")\n",
    "\n",
    "genre_meta = load_json(\"genre_gn_all.json\")"
   ]
  },
  {
   "cell_type": "code",
   "execution_count": 79,
   "metadata": {},
   "outputs": [],
   "source": [
    "song_basket = []\n",
    "for i in songs:\n",
    "    basket = []\n",
    "    for j in i:\n",
    "        basket.append(int(j))\n",
    "    song_basket.append(basket)"
   ]
  },
  {
   "cell_type": "code",
   "execution_count": 80,
   "metadata": {},
   "outputs": [],
   "source": [
    "artist_basket=[]\n",
    "for  i in songs:\n",
    "    poo=[]\n",
    "    for  j in i:\n",
    "        poo.append(int(j))\n",
    "    artist_basket.append(poo)"
   ]
  },
  {
   "cell_type": "code",
   "execution_count": 81,
   "metadata": {},
   "outputs": [],
   "source": [
    "def get_genre_cross_playlist(tr_songs, song_meta):\n",
    "    genre_cross_playlist = []\n",
    "    for playlist in tr_songs:\n",
    "        genre = []\n",
    "        #print(playlist)\n",
    "        for song in playlist:\n",
    "            #genre.append(song)\n",
    "            genre.extend(song_meta[song][\"artist_name_basket\"])\n",
    "        genre_cross_playlist.append(genre)\n",
    "    return genre_cross_playlist\n",
    "\n",
    "b = get_genre_cross_playlist(artist_basket,song_meta)"
   ]
  },
  {
   "cell_type": "code",
   "execution_count": 82,
   "metadata": {},
   "outputs": [],
   "source": [
    "artist_ = [' '.join(sentence) for sentence in b]\n",
    "vect_artist = CountVectorizer(token_pattern=u\"(?u)\\\\b\\\\w+\\\\b\",min_df=3)\n",
    "vect_artist.fit(artist_)\n",
    "len(vect_artist.vocabulary_)\n",
    "train_artist  = vect_artist.transform(artist_)"
   ]
  },
  {
   "cell_type": "code",
   "execution_count": 83,
   "metadata": {},
   "outputs": [
    {
     "data": {
      "text/plain": [
       "(<148826x12381 sparse matrix of type '<class 'numpy.int64'>'\n",
       " \twith 498134 stored elements in Compressed Sparse Row format>,\n",
       " <148826x337586 sparse matrix of type '<class 'numpy.int64'>'\n",
       " \twith 5593213 stored elements in Compressed Sparse Row format>,\n",
       " <148826x48164 sparse matrix of type '<class 'numpy.int64'>'\n",
       " \twith 6812635 stored elements in Compressed Sparse Row format>)"
      ]
     },
     "execution_count": 83,
     "metadata": {},
     "output_type": "execute_result"
    }
   ],
   "source": [
    "train_,train_s,train_artist"
   ]
  },
  {
   "cell_type": "code",
   "execution_count": 84,
   "metadata": {},
   "outputs": [
    {
     "data": {
      "text/plain": [
       "['The Sol',\n",
       " 'Royal Bangs',\n",
       " 'Honeymoon Suite',\n",
       " 'Phoenix',\n",
       " 'James Blunt',\n",
       " 'Phoenix',\n",
       " 'OneRepublic',\n",
       " 'Corinne Bailey Rae',\n",
       " 'Bruno Mars',\n",
       " 'Christophe Mae',\n",
       " 'Tomi Swick',\n",
       " 'Lily Of The Valley',\n",
       " 'Christophe Mae',\n",
       " 'Never Shout Never',\n",
       " 'Man Man',\n",
       " 'Cody Simpson',\n",
       " 'Red Hot Chili Peppers',\n",
       " 'Boyzone',\n",
       " 'All About She']"
      ]
     },
     "execution_count": 84,
     "metadata": {},
     "output_type": "execute_result"
    }
   ],
   "source": [
    "b[0]"
   ]
  },
  {
   "cell_type": "code",
   "execution_count": null,
   "metadata": {},
   "outputs": [],
   "source": []
  },
  {
   "cell_type": "code",
   "execution_count": 85,
   "metadata": {},
   "outputs": [],
   "source": [
    "import random\n",
    "import copy\n",
    "def denoising(songs):\n",
    "    a= []\n",
    "    d = 1\n",
    "    for _list in songs:\n",
    "        sample_list = []\n",
    "        if len(_list) < 9:\n",
    "            a.append(_list)\n",
    "            d\n",
    "            continue\n",
    "        for i in range(1):\n",
    "            new_list = copy.deepcopy(_list)\n",
    "            for i in range(int(len(new_list) *0.3)):\n",
    "                new_list.remove(random.choice(new_list))\n",
    "            a.append(new_list)\n",
    "    return a"
   ]
  },
  {
   "cell_type": "code",
   "execution_count": 86,
   "metadata": {},
   "outputs": [],
   "source": [
    "ttags = denoising(tags)\n",
    "ssongs = denoising(songs)\n",
    "aartist = denoising(b)"
   ]
  },
  {
   "cell_type": "code",
   "execution_count": 87,
   "metadata": {},
   "outputs": [
    {
     "data": {
      "text/plain": [
       "['Idina Menzel',\n",
       " 'Aurora',\n",
       " '김동률',\n",
       " 'Ashley Tisdale',\n",
       " 'Mariah Carey',\n",
       " 'Mariah Carey',\n",
       " 'Mariah Carey',\n",
       " 'George Benson',\n",
       " '스윗소로우 (SWEET SORROW)',\n",
       " '브로콜리너마저',\n",
       " '성시경',\n",
       " '박효신',\n",
       " '이석훈',\n",
       " '서인국',\n",
       " 'VIXX (빅스)',\n",
       " '제이레빗(J Rabbit)',\n",
       " '어반자카파',\n",
       " 'Chickenshack',\n",
       " 'Kristen Bell',\n",
       " 'Agatha Lee Monn',\n",
       " 'Katie Lopez',\n",
       " '성시경',\n",
       " 'Ryu Miho',\n",
       " 'Sakakibara Dai',\n",
       " 'Ku Il Oh Trio',\n",
       " '토이',\n",
       " 'Manhattan Transfer',\n",
       " '성시경',\n",
       " '성시경',\n",
       " 'Sam Smith',\n",
       " 'Manhattan Jazz Orchestra',\n",
       " 'Nite Flyte',\n",
       " '소란 (SORAN)',\n",
       " 'Stevie Wonder',\n",
       " 'Andra Day',\n",
       " '멜로망스',\n",
       " '에릭남 (Eric Nam)',\n",
       " 'CHEEZE (치즈)',\n",
       " 'Sam Smith',\n",
       " '우효',\n",
       " '최낙타',\n",
       " '혁오 (HYUKOH)',\n",
       " '장희원',\n",
       " '이민혁',\n",
       " '정준일',\n",
       " '정미애',\n",
       " '태연 (TAEYEON)']"
      ]
     },
     "execution_count": 87,
     "metadata": {},
     "output_type": "execute_result"
    }
   ],
   "source": [
    "b[3]"
   ]
  },
  {
   "cell_type": "code",
   "execution_count": 88,
   "metadata": {},
   "outputs": [
    {
     "data": {
      "text/plain": [
       "['Idina Menzel',\n",
       " 'Aurora',\n",
       " '김동률',\n",
       " 'Ashley Tisdale',\n",
       " 'Mariah Carey',\n",
       " 'Mariah Carey',\n",
       " '스윗소로우 (SWEET SORROW)',\n",
       " '성시경',\n",
       " '박효신',\n",
       " '제이레빗(J Rabbit)',\n",
       " 'Chickenshack',\n",
       " 'Kristen Bell',\n",
       " 'Katie Lopez',\n",
       " '성시경',\n",
       " 'Ryu Miho',\n",
       " 'Ku Il Oh Trio',\n",
       " '성시경',\n",
       " '성시경',\n",
       " 'Manhattan Jazz Orchestra',\n",
       " 'Nite Flyte',\n",
       " '소란 (SORAN)',\n",
       " 'Stevie Wonder',\n",
       " 'Andra Day',\n",
       " '멜로망스',\n",
       " 'CHEEZE (치즈)',\n",
       " 'Sam Smith',\n",
       " '우효',\n",
       " '최낙타',\n",
       " '혁오 (HYUKOH)',\n",
       " '장희원',\n",
       " '이민혁',\n",
       " '정준일',\n",
       " '태연 (TAEYEON)']"
      ]
     },
     "execution_count": 88,
     "metadata": {},
     "output_type": "execute_result"
    }
   ],
   "source": [
    "aartist[3]"
   ]
  },
  {
   "cell_type": "code",
   "execution_count": 89,
   "metadata": {},
   "outputs": [],
   "source": [
    "tags__ = [' '.join(sentence) for sentence in ttags]\n",
    "songs__ = [' '.join(sentence) for sentence in ssongs]\n",
    "title__ = [' '.join(sentence) for sentence in aartist]\n",
    "\n",
    "train_d  = vect.transform(tags__)\n",
    "train_s_d  = vect_s.transform(songs__)\n",
    "train_artist_d  = vect_artist.transform(title__)"
   ]
  },
  {
   "cell_type": "code",
   "execution_count": 90,
   "metadata": {},
   "outputs": [
    {
     "data": {
      "text/plain": [
       "(<148826x12381 sparse matrix of type '<class 'numpy.int64'>'\n",
       " \twith 498134 stored elements in Compressed Sparse Row format>,\n",
       " <148826x337586 sparse matrix of type '<class 'numpy.int64'>'\n",
       " \twith 5593213 stored elements in Compressed Sparse Row format>,\n",
       " <148826x48164 sparse matrix of type '<class 'numpy.int64'>'\n",
       " \twith 6812635 stored elements in Compressed Sparse Row format>)"
      ]
     },
     "execution_count": 90,
     "metadata": {},
     "output_type": "execute_result"
    }
   ],
   "source": [
    "train_,train_s,train_artist"
   ]
  },
  {
   "cell_type": "code",
   "execution_count": 91,
   "metadata": {},
   "outputs": [
    {
     "data": {
      "text/plain": [
       "(<148826x12381 sparse matrix of type '<class 'numpy.int64'>'\n",
       " \twith 450905 stored elements in Compressed Sparse Row format>,\n",
       " <148826x337586 sparse matrix of type '<class 'numpy.int64'>'\n",
       " \twith 3978332 stored elements in Compressed Sparse Row format>,\n",
       " <148826x48164 sparse matrix of type '<class 'numpy.int64'>'\n",
       " \twith 5214034 stored elements in Compressed Sparse Row format>)"
      ]
     },
     "execution_count": 91,
     "metadata": {},
     "output_type": "execute_result"
    }
   ],
   "source": [
    "train_d,train_s_d,train_artist_d"
   ]
  },
  {
   "cell_type": "code",
   "execution_count": 92,
   "metadata": {},
   "outputs": [],
   "source": [
    "# import scipy\n",
    "# from scipy.sparse import csr_matrix\n",
    "# import numpy as np\n",
    "# M = csr_matrix((148826,48164), dtype=np.int64)\n",
    "# M"
   ]
  },
  {
   "cell_type": "code",
   "execution_count": 93,
   "metadata": {},
   "outputs": [
    {
     "data": {
      "text/plain": [
       "<148826x398131 sparse matrix of type '<class 'numpy.int64'>'\n",
       "\twith 9643271 stored elements in Compressed Sparse Row format>"
      ]
     },
     "execution_count": 93,
     "metadata": {},
     "output_type": "execute_result"
    }
   ],
   "source": [
    "import scipy\n",
    "from scipy.sparse import csr_matrix\n",
    "r = scipy.sparse.hstack([train_d,train_s_d,train_artist_d])\n",
    "r = csr_matrix(r)\n",
    "r"
   ]
  },
  {
   "cell_type": "code",
   "execution_count": 94,
   "metadata": {},
   "outputs": [
    {
     "data": {
      "text/plain": [
       "<148826x398131 sparse matrix of type '<class 'numpy.int64'>'\n",
       "\twith 12903982 stored elements in Compressed Sparse Row format>"
      ]
     },
     "execution_count": 94,
     "metadata": {},
     "output_type": "execute_result"
    }
   ],
   "source": [
    "r_y = scipy.sparse.hstack([train_,train_s,train_artist])\n",
    "r_y = csr_matrix(r_y)\n",
    "r_y"
   ]
  },
  {
   "cell_type": "code",
   "execution_count": 95,
   "metadata": {},
   "outputs": [],
   "source": [
    "# train_data = r[:int(0.9*r.shape[0])]\n",
    "# val_data = r[int(0.9*r.shape[0]):]\n",
    "# train_data,val_data"
   ]
  },
  {
   "cell_type": "code",
   "execution_count": 96,
   "metadata": {},
   "outputs": [
    {
     "data": {
      "text/plain": [
       "(115071, 23015, 10740)"
      ]
     },
     "execution_count": 96,
     "metadata": {},
     "output_type": "execute_result"
    }
   ],
   "source": [
    "len(train),len(val),len(test)"
   ]
  },
  {
   "cell_type": "code",
   "execution_count": 97,
   "metadata": {},
   "outputs": [],
   "source": [
    "# train_data_y = r_y[:int(0.9*r.shape[0])]\n",
    "# val_data_y = r_y[int(0.9*r.shape[0]):]\n",
    "# train_data_y,val_data_y"
   ]
  },
  {
   "cell_type": "code",
   "execution_count": 98,
   "metadata": {},
   "outputs": [
    {
     "data": {
      "text/plain": [
       "(<23015x398131 sparse matrix of type '<class 'numpy.int64'>'\n",
       " \twith 740017 stored elements in Compressed Sparse Row format>,\n",
       " <23015x398131 sparse matrix of type '<class 'numpy.int64'>'\n",
       " \twith 975019 stored elements in Compressed Sparse Row format>)"
      ]
     },
     "execution_count": 98,
     "metadata": {},
     "output_type": "execute_result"
    }
   ],
   "source": [
    "val_x = r[115071:115071+23015]\n",
    "val_y = r_y[115071:115071+23015]\n",
    "val_x,val_y"
   ]
  },
  {
   "cell_type": "code",
   "execution_count": 99,
   "metadata": {},
   "outputs": [],
   "source": [
    "# train_genre = genre_[:int(0.8*r.shape[0])]\n",
    "# val_genre = genre_[int(0.8*r.shape[0]):]"
   ]
  },
  {
   "cell_type": "code",
   "execution_count": 100,
   "metadata": {},
   "outputs": [],
   "source": [
    "# train_data, train_genre"
   ]
  },
  {
   "cell_type": "code",
   "execution_count": 101,
   "metadata": {},
   "outputs": [],
   "source": [
    "# X,val_data,val_genre"
   ]
  },
  {
   "cell_type": "code",
   "execution_count": 102,
   "metadata": {},
   "outputs": [],
   "source": [
    "# train_s,train_artist,156348+48164"
   ]
  },
  {
   "cell_type": "code",
   "execution_count": 103,
   "metadata": {},
   "outputs": [],
   "source": [
    "# import scipy\n",
    "# from scipy.sparse import csr_matrix\n",
    "# r_tt = scipy.sparse.hstack([train_s,train_artist])\n",
    "# r_tt= csr_matrix(r_tt)\n",
    "# r_tt\n"
   ]
  },
  {
   "cell_type": "code",
   "execution_count": 104,
   "metadata": {},
   "outputs": [],
   "source": [
    "# r_tt\n",
    "# train_data = r_tt[:int(0.9*r.shape[0])]\n",
    "# val_data = r_tt[int(0.9*r.shape[0]):]"
   ]
  },
  {
   "cell_type": "code",
   "execution_count": 105,
   "metadata": {},
   "outputs": [],
   "source": [
    "# train_data,val_data"
   ]
  },
  {
   "cell_type": "code",
   "execution_count": 106,
   "metadata": {},
   "outputs": [],
   "source": [
    "val\n",
    "t_val = []\n",
    "s_val = []\n",
    "play_val = []\n",
    "for i in range(len(val)):\n",
    "    t_val.append(val[i][\"tags\"])\n",
    "    s_val.append(val[i][\"songs\"])\n",
    "    play_val.append(val[i][\"plylst_title\"])\n",
    "\n",
    "songs_val = []\n",
    "for i in s_val:\n",
    "    abc = []\n",
    "    for j in i:\n",
    "        abc.append(str(j))  \n",
    "    songs_val.append(abc)\n",
    "songs_v = [' '.join(sentence) for sentence in songs_val]\n",
    "train_s_val_data  = vect_s.transform(songs_v)"
   ]
  },
  {
   "cell_type": "code",
   "execution_count": 107,
   "metadata": {},
   "outputs": [],
   "source": [
    "artist_basket_val=[]\n",
    "for  i in songs_val:\n",
    "    poo=[]\n",
    "    for  j in i:\n",
    "        poo.append(int(j))\n",
    "    artist_basket_val.append(poo)\n",
    "\n",
    "b_val = get_genre_cross_playlist(artist_basket_val,song_meta)"
   ]
  },
  {
   "cell_type": "code",
   "execution_count": 108,
   "metadata": {},
   "outputs": [],
   "source": [
    "artist_val_list = [' '.join(sentence) for sentence in b_val]\n",
    "train_artist_vval  = vect_artist.transform(artist_val_list)"
   ]
  },
  {
   "cell_type": "code",
   "execution_count": 109,
   "metadata": {},
   "outputs": [
    {
     "data": {
      "text/plain": [
       "(<23015x337586 sparse matrix of type '<class 'numpy.int64'>'\n",
       " \twith 399102 stored elements in Compressed Sparse Row format>,\n",
       " <23015x48164 sparse matrix of type '<class 'numpy.int64'>'\n",
       " \twith 549591 stored elements in Compressed Sparse Row format>)"
      ]
     },
     "execution_count": 109,
     "metadata": {},
     "output_type": "execute_result"
    }
   ],
   "source": [
    "train_s_val_data,train_artist_vval"
   ]
  },
  {
   "cell_type": "code",
   "execution_count": 110,
   "metadata": {},
   "outputs": [
    {
     "data": {
      "text/plain": [
       "<23015x385750 sparse matrix of type '<class 'numpy.int64'>'\n",
       "\twith 948693 stored elements in Compressed Sparse Row format>"
      ]
     },
     "execution_count": 110,
     "metadata": {},
     "output_type": "execute_result"
    }
   ],
   "source": [
    "import scipy\n",
    "from scipy.sparse import csr_matrix\n",
    "predict_val = scipy.sparse.hstack([train_s_val_data,train_artist_vval])\n",
    "predict_val = csr_matrix(predict_val)\n",
    "predict_val"
   ]
  },
  {
   "cell_type": "code",
   "execution_count": 111,
   "metadata": {},
   "outputs": [],
   "source": [
    "from keras.optimizers import Adam\n",
    "from keras.layers import Input, Dense, Dropout, Embedding, Flatten, add,Concatenate\n",
    "from keras.models import Model\n",
    "\n",
    "def autoEncoder(X):\n",
    "    '''\n",
    "    Autoencoder for Collaborative Filter Model\n",
    "    '''\n",
    "    users_items_matrix  = X\n",
    "    #print(content_info.shape)\n",
    "    #print(users_items_matrix.shape)\n",
    "    # Input\n",
    "    input_layer   = Input(shape=(users_items_matrix.shape[1],), name='UserScore')\n",
    "#     input_content = Input(shape=(content_info.shape[1],), name='Itemcontent')\n",
    "    \n",
    "    # Encoder\n",
    "    # -----------------------------\n",
    "    enc = Dense(256, activation='sigmoid', name='EncLayer1')(input_layer)\n",
    "\n",
    "#     # Content Information\n",
    "#     x_content = Embedding(255, 50, input_length=content_info.shape[1])(input_content)\n",
    "#     x_content = Flatten()(x_content)\n",
    "#     x_content = Dense(128, activation='selu', \n",
    "#                                name='ItemLatentSpace')(x_content)\n",
    "    # Latent Space\n",
    "    # -----------------------------\n",
    "#     lat_space = Dense(128, activation='sigmoid', name='UserLatentSpace')(enc)\n",
    "    \n",
    "#     lat_space= Concatenate(name='LatentSpace')([lat_space, x_content])\n",
    "    lat_space = Dropout(0.25, name='Dropout')(enc) # Dropout\n",
    "\n",
    "    # Decoder\n",
    "    # -----------------------------\n",
    "    dec = Dense(256, activation='sigmoid', name='DecLayer1')(lat_space)\n",
    "\n",
    "    # Output\n",
    "    output_layer = Dense(users_items_matrix.shape[1], activation='sigmoid', name='UserScorePred')(dec)\n",
    "\n",
    "    # this model maps an input to its reconstruction\n",
    "    model = Model(input_layer, output_layer)    \n",
    "    \n",
    "    return model"
   ]
  },
  {
   "cell_type": "code",
   "execution_count": 112,
   "metadata": {},
   "outputs": [
    {
     "name": "stdout",
     "output_type": "stream",
     "text": [
      "Model: \"model_2\"\n",
      "_________________________________________________________________\n",
      "Layer (type)                 Output Shape              Param #   \n",
      "=================================================================\n",
      "UserScore (InputLayer)       (None, 398131)            0         \n",
      "_________________________________________________________________\n",
      "EncLayer1 (Dense)            (None, 256)               101921792 \n",
      "_________________________________________________________________\n",
      "Dropout (Dropout)            (None, 256)               0         \n",
      "_________________________________________________________________\n",
      "DecLayer1 (Dense)            (None, 256)               65792     \n",
      "_________________________________________________________________\n",
      "UserScorePred (Dense)        (None, 398131)            102319667 \n",
      "=================================================================\n",
      "Total params: 204,307,251\n",
      "Trainable params: 204,307,251\n",
      "Non-trainable params: 0\n",
      "_________________________________________________________________\n"
     ]
    }
   ],
   "source": [
    "from keras.utils import multi_gpu_model\n",
    "# Build model\n",
    "X = r\n",
    "model = autoEncoder(X)\n",
    "#model = multi_gpu_model(model, gpus=2)\n",
    "#model = multi_gpu_model(model, gpus=2)\n",
    "model.compile(optimizer = Adam(lr=0.01), loss='binary_crossentropy')\n",
    "    \n",
    "model.summary()"
   ]
  },
  {
   "cell_type": "code",
   "execution_count": null,
   "metadata": {},
   "outputs": [
    {
     "name": "stdout",
     "output_type": "stream",
     "text": [
      "Train on 148826 samples, validate on 23015 samples\n",
      "Epoch 1/30\n",
      "148826/148826 [==============================] - 605s 4ms/step - loss: 0.0027 - val_loss: 0.0013\n",
      "\n",
      "Epoch 00001: val_loss improved from inf to 0.00132, saving model to /home/yjkim/new_melon_test/youngwook-melon/res/cmf/auto2/01-0.0013.hdf5\n",
      "Epoch 2/30\n",
      "148826/148826 [==============================] - 604s 4ms/step - loss: 0.0026 - val_loss: 0.0014\n",
      "\n",
      "Epoch 00002: val_loss did not improve from 0.00132\n",
      "Epoch 3/30\n",
      "148826/148826 [==============================] - 601s 4ms/step - loss: 0.0027 - val_loss: 0.0014\n",
      "\n",
      "Epoch 00003: val_loss did not improve from 0.00132\n",
      "Epoch 4/30\n",
      "148826/148826 [==============================] - 603s 4ms/step - loss: 0.0028 - val_loss: 0.0014\n",
      "\n",
      "Epoch 00004: val_loss did not improve from 0.00132\n",
      "Epoch 5/30\n",
      "148826/148826 [==============================] - 599s 4ms/step - loss: 0.0028 - val_loss: 0.0014\n",
      "\n",
      "Epoch 00005: val_loss did not improve from 0.00132\n",
      "Epoch 6/30\n",
      "148826/148826 [==============================] - 603s 4ms/step - loss: 0.0028 - val_loss: 0.0014\n",
      "\n",
      "Epoch 00006: val_loss did not improve from 0.00132\n",
      "Epoch 7/30\n",
      "148826/148826 [==============================] - 602s 4ms/step - loss: 0.0023 - val_loss: 8.3387e-04\n",
      "\n",
      "Epoch 00007: val_loss improved from 0.00132 to 0.00083, saving model to /home/yjkim/new_melon_test/youngwook-melon/res/cmf/auto2/07-0.0008.hdf5\n",
      "Epoch 8/30\n",
      "148826/148826 [==============================] - 602s 4ms/step - loss: 0.0012 - val_loss: 5.4384e-04\n",
      "\n",
      "Epoch 00008: val_loss improved from 0.00083 to 0.00054, saving model to /home/yjkim/new_melon_test/youngwook-melon/res/cmf/auto2/08-0.0005.hdf5\n",
      "Epoch 9/30\n",
      "148826/148826 [==============================] - 601s 4ms/step - loss: 8.0239e-04 - val_loss: 4.5021e-04\n",
      "\n",
      "Epoch 00009: val_loss improved from 0.00054 to 0.00045, saving model to /home/yjkim/new_melon_test/youngwook-melon/res/cmf/auto2/09-0.0005.hdf5\n",
      "Epoch 10/30\n",
      "148826/148826 [==============================] - 601s 4ms/step - loss: 6.7269e-04 - val_loss: 3.9522e-04\n",
      "\n",
      "Epoch 00010: val_loss improved from 0.00045 to 0.00040, saving model to /home/yjkim/new_melon_test/youngwook-melon/res/cmf/auto2/10-0.0004.hdf5\n",
      "Epoch 11/30\n",
      "148826/148826 [==============================] - 601s 4ms/step - loss: 6.0116e-04 - val_loss: 3.6296e-04\n",
      "\n",
      "Epoch 00011: val_loss improved from 0.00040 to 0.00036, saving model to /home/yjkim/new_melon_test/youngwook-melon/res/cmf/auto2/11-0.0004.hdf5\n",
      "Epoch 12/30\n",
      "148826/148826 [==============================] - 603s 4ms/step - loss: 5.5506e-04 - val_loss: 3.4531e-04\n",
      "\n",
      "Epoch 00012: val_loss improved from 0.00036 to 0.00035, saving model to /home/yjkim/new_melon_test/youngwook-melon/res/cmf/auto2/12-0.0003.hdf5\n",
      "Epoch 13/30\n",
      "148826/148826 [==============================] - 602s 4ms/step - loss: 5.1951e-04 - val_loss: 3.2256e-04\n",
      "\n",
      "Epoch 00013: val_loss improved from 0.00035 to 0.00032, saving model to /home/yjkim/new_melon_test/youngwook-melon/res/cmf/auto2/13-0.0003.hdf5\n",
      "Epoch 14/30\n",
      "148826/148826 [==============================] - 604s 4ms/step - loss: 4.9195e-04 - val_loss: 3.1056e-04\n",
      "\n",
      "Epoch 00014: val_loss improved from 0.00032 to 0.00031, saving model to /home/yjkim/new_melon_test/youngwook-melon/res/cmf/auto2/14-0.0003.hdf5\n",
      "Epoch 15/30\n",
      "148826/148826 [==============================] - 602s 4ms/step - loss: 4.6995e-04 - val_loss: 2.9631e-04\n",
      "\n",
      "Epoch 00015: val_loss improved from 0.00031 to 0.00030, saving model to /home/yjkim/new_melon_test/youngwook-melon/res/cmf/auto2/15-0.0003.hdf5\n",
      "Epoch 16/30\n",
      "148826/148826 [==============================] - 600s 4ms/step - loss: 4.5056e-04 - val_loss: 2.8786e-04\n",
      "\n",
      "Epoch 00016: val_loss improved from 0.00030 to 0.00029, saving model to /home/yjkim/new_melon_test/youngwook-melon/res/cmf/auto2/16-0.0003.hdf5\n",
      "Epoch 17/30\n",
      "148826/148826 [==============================] - 603s 4ms/step - loss: 4.3403e-04 - val_loss: 2.7680e-04\n",
      "\n",
      "Epoch 00017: val_loss improved from 0.00029 to 0.00028, saving model to /home/yjkim/new_melon_test/youngwook-melon/res/cmf/auto2/17-0.0003.hdf5\n",
      "Epoch 18/30\n",
      "148826/148826 [==============================] - 603s 4ms/step - loss: 4.1944e-04 - val_loss: 2.6956e-04\n",
      "\n",
      "Epoch 00018: val_loss improved from 0.00028 to 0.00027, saving model to /home/yjkim/new_melon_test/youngwook-melon/res/cmf/auto2/18-0.0003.hdf5\n",
      "Epoch 19/30\n",
      "148826/148826 [==============================] - 601s 4ms/step - loss: 4.0591e-04 - val_loss: 2.6593e-04\n",
      "\n",
      "Epoch 00019: val_loss improved from 0.00027 to 0.00027, saving model to /home/yjkim/new_melon_test/youngwook-melon/res/cmf/auto2/19-0.0003.hdf5\n",
      "Epoch 20/30\n",
      "148826/148826 [==============================] - 602s 4ms/step - loss: 3.9389e-04 - val_loss: 2.5786e-04\n",
      "\n",
      "Epoch 00020: val_loss improved from 0.00027 to 0.00026, saving model to /home/yjkim/new_melon_test/youngwook-melon/res/cmf/auto2/20-0.0003.hdf5\n",
      "Epoch 21/30\n",
      "148826/148826 [==============================] - 603s 4ms/step - loss: 3.8201e-04 - val_loss: 2.5100e-04\n",
      "\n",
      "Epoch 00021: val_loss improved from 0.00026 to 0.00025, saving model to /home/yjkim/new_melon_test/youngwook-melon/res/cmf/auto2/21-0.0003.hdf5\n",
      "Epoch 22/30\n",
      "148826/148826 [==============================] - 604s 4ms/step - loss: 3.7299e-04 - val_loss: 2.4227e-04\n",
      "\n",
      "Epoch 00022: val_loss improved from 0.00025 to 0.00024, saving model to /home/yjkim/new_melon_test/youngwook-melon/res/cmf/auto2/22-0.0002.hdf5\n",
      "Epoch 23/30\n",
      " 11680/148826 [=>............................] - ETA: 8:37 - loss: 3.3995e-04"
     ]
    }
   ],
   "source": [
    "from keras.callbacks import EarlyStopping, ModelCheckpoint\n",
    "MODEL_SAVE_FOLDER_PATH = '/home/yjkim/new_melon_test/youngwook-melon/res/cmf/auto2/'\n",
    "if not os.path.exists(MODEL_SAVE_FOLDER_PATH):\n",
    "  os.mkdir(MODEL_SAVE_FOLDER_PATH)\n",
    "\n",
    "model_path = MODEL_SAVE_FOLDER_PATH + '{epoch:02d}-{val_loss:.4f}.hdf5'\n",
    "\n",
    "cb_checkpoint = ModelCheckpoint(filepath=model_path, monitor='val_loss',\n",
    "                                verbose=1, save_best_only=True)\n",
    "hist = model.fit(x=r, y=r_y,\n",
    "                 validation_data=(val_x, val_y),\n",
    "                  epochs=30,\n",
    "                  batch_size=32,\n",
    "                  shuffle=True,\n",
    "                  callbacks=[cb_checkpoint])"
   ]
  },
  {
   "cell_type": "code",
   "execution_count": null,
   "metadata": {},
   "outputs": [],
   "source": [
    "MODEL_SAVE_FOLDER_PATH = '/home/yjkim/new_melon_test/youngwook-melon/res/cmf/auto2/'\n",
    "if not os.path.exists(MODEL_SAVE_FOLDER_PATH):\n",
    "  os.mkdir(MODEL_SAVE_FOLDER_PATH)\n",
    "\n",
    "model_path = MODEL_SAVE_FOLDER_PATH + '{epoch:02d}-{val_loss:.6f}.hdf5'\n",
    "\n",
    "cb_checkpoint = ModelCheckpoint(filepath=model_path, monitor='val_loss',\n",
    "                                verbose=1, save_best_only=True)\n",
    "hist1 = model.fit(x=r, y=r_y,\n",
    "                 validation_data=(val_x, val_y),\n",
    "                  epochs=60,\n",
    "                  batch_size=32,\n",
    "                  shuffle=True,\n",
    "                  callbacks=[cb_checkpoint])"
   ]
  },
  {
   "cell_type": "code",
   "execution_count": 58,
   "metadata": {},
   "outputs": [
    {
     "data": {
      "text/plain": [
       "'/home/yjkim/new_melon_test/youngwook-melon/res/cmf'"
      ]
     },
     "execution_count": 58,
     "metadata": {},
     "output_type": "execute_result"
    }
   ],
   "source": [
    "pwd"
   ]
  },
  {
   "cell_type": "code",
   "execution_count": null,
   "metadata": {},
   "outputs": [],
   "source": [
    "model.load_weights(\"/home/yjkim/new_melon_test/youngwook-melon/res/cmf/auto2/55-0.0006.hdf5\")"
   ]
  },
  {
   "cell_type": "code",
   "execution_count": 59,
   "metadata": {},
   "outputs": [
    {
     "data": {
      "image/png": "[encoded data removed]",
      "text/plain": [
       "<Figure size 432x288 with 1 Axes>"
      ]
     },
     "metadata": {
      "needs_background": "light"
     },
     "output_type": "display_data"
    }
   ],
   "source": [
    "import numpy\n",
    "%matplotlib inline\n",
    "import matplotlib.pyplot as plt\n",
    "\n",
    "y_vloss = hist.history['val_loss']\n",
    "y_loss = hist.history['loss']\n",
    "\n",
    "x_len = numpy.arange(len(y_loss))\n",
    "plt.plot(x_len, y_vloss, marker='.', c='red', label=\"Validation-set Loss\")\n",
    "plt.plot(x_len, y_loss, marker='.', c='blue', label=\"Train-set Loss\")\n",
    "\n",
    "plt.legend(loc='upper right')\n",
    "plt.grid()\n",
    "plt.xlabel('epoch')\n",
    "plt.ylabel('loss')\n",
    "plt.show()"
   ]
  },
  {
   "cell_type": "code",
   "execution_count": 69,
   "metadata": {},
   "outputs": [],
   "source": [
    "tname = vect.get_feature_names()\n",
    "def recommender_for_user(user_id, interact_matrix,  topn = 10):\n",
    "\n",
    "    pred_scores = interact_matrix.loc[user_id].values\n",
    "    #print(pred_scores,len(pred_scores),df.columns[57061:],len(df.columns[57061:]))\n",
    "    df_scores   = pd.DataFrame({'content_id': tname, \n",
    "                               'score': pred_scores})\n",
    "\n",
    "    df_rec      = df_scores.set_index('content_id')\\\n",
    "                    .sort_values('score', ascending=False)\\\n",
    "                    .head(topn)[[\"score\"]]\n",
    "    return df_rec[df_rec.score > 0]\n",
    "fname = vect_s.get_feature_names()\n",
    "def recommender_for_user_s(user_id, interact_matrix,  topn = 100):\n",
    "    \n",
    "    pred_scores = interact_matrix.loc[user_id].values\n",
    "    #print(pred_scores)\n",
    "    #print(list(song_predict)[0:10])\n",
    "    df_scores   = pd.DataFrame({'content_id': fname, \n",
    "                               'score': pred_scores})\n",
    "\n",
    "    df_rec      = df_scores.set_index('content_id')\\\n",
    "                    .sort_values('score', ascending=False)\\\n",
    "                    .head(topn)[[\"score\"]]\n",
    "    return df_rec[df_rec.score > 0]\n",
    "def select_top_n(names, scores, topn):\n",
    "    #return sorted(enumerate(names), key=lambda item: scores[item[0]], reverse=True)\n",
    "    return list(zip(*sorted(enumerate(names), key=lambda item: scores[item[0]], reverse=True)[:topn]))[1]"
   ]
  },
  {
   "cell_type": "code",
   "execution_count": 72,
   "metadata": {},
   "outputs": [
    {
     "data": {
      "text/plain": [
       "187516"
      ]
     },
     "execution_count": 72,
     "metadata": {},
     "output_type": "execute_result"
    }
   ],
   "source": [
    "import copy\n",
    "val_copy = copy.deepcopy(val)\n",
    "len(fname)"
   ]
  },
  {
   "cell_type": "code",
   "execution_count": 18,
   "metadata": {},
   "outputs": [],
   "source": [
    "val_train_ = train_[115071:115071+23015]\n",
    "val_train_s = train_s[115071:115071+23015]\n",
    "r_v = scipy.sparse.hstack([val_train_,val_train_s])\n",
    "r_v = csr_matrix(r_v)\n"
   ]
  },
  {
   "cell_type": "code",
   "execution_count": 27,
   "metadata": {},
   "outputs": [
    {
     "data": {
      "text/plain": [
       "(<1x156348 sparse matrix of type '<class 'numpy.int64'>'\n",
       " \twith 9 stored elements in Compressed Sparse Row format>,\n",
       " <1x5251 sparse matrix of type '<class 'numpy.int64'>'\n",
       " \twith 0 stored elements in Compressed Sparse Row format>)"
      ]
     },
     "execution_count": 27,
     "metadata": {},
     "output_type": "execute_result"
    }
   ],
   "source": [
    "val_train_s[2],val_train_[2]"
   ]
  },
  {
   "cell_type": "code",
   "execution_count": 25,
   "metadata": {},
   "outputs": [
    {
     "data": {
      "text/plain": [
       "<1x161599 sparse matrix of type '<class 'numpy.int64'>'\n",
       "\twith 9 stored elements in Compressed Sparse Row format>"
      ]
     },
     "execution_count": 25,
     "metadata": {},
     "output_type": "execute_result"
    }
   ],
   "source": [
    "r_v[2]"
   ]
  },
  {
   "cell_type": "code",
   "execution_count": 70,
   "metadata": {},
   "outputs": [
    {
     "data": {
      "text/plain": [
       "(<23015x248061 sparse matrix of type '<class 'numpy.int64'>'\n",
       " \twith 949877 stored elements in Compressed Sparse Row format>,\n",
       " <23015x248061 sparse matrix of type '<class 'numpy.int64'>'\n",
       " \twith 721214 stored elements in Compressed Sparse Row format>,\n",
       " <148826x12381 sparse matrix of type '<class 'numpy.int64'>'\n",
       " \twith 450909 stored elements in Compressed Sparse Row format>,\n",
       " <148826x187516 sparse matrix of type '<class 'numpy.int64'>'\n",
       " \twith 3727919 stored elements in Compressed Sparse Row format>,\n",
       " <148826x48164 sparse matrix of type '<class 'numpy.int64'>'\n",
       " \twith 5214650 stored elements in Compressed Sparse Row format>,\n",
       " 187516,\n",
       " 12381)"
      ]
     },
     "execution_count": 70,
     "metadata": {},
     "output_type": "execute_result"
    }
   ],
   "source": [
    "val_y,val_x,train_d,train_s_d,train_artist_d,len(fname),len(tname)"
   ]
  },
  {
   "cell_type": "code",
   "execution_count": 73,
   "metadata": {},
   "outputs": [
    {
     "name": "stderr",
     "output_type": "stream",
     "text": [
      "23015it [1:17:51,  4.93it/s]\n"
     ]
    }
   ],
   "source": [
    "import numpy as np\n",
    "import pandas as pd\n",
    "from tqdm import tqdm\n",
    "for i,check in tqdm(enumerate(model.predict(val_y))):\n",
    "    new_matrix = (val_y[i].toarray()==0)*(check - np.min(check))\n",
    "    #val_copy[i][\"songs\"] = select_top_n(names = fname, scores=new_matrix[0,:], topn=100)\n",
    "    \n",
    "    \n",
    "    song_predict = pd.DataFrame(new_matrix[:,12381:12381+187516])\n",
    "    #print(\"Model prediction00: {}s\".format(time.time() - start_time))\n",
    "    #start_time = time.time()\n",
    "\n",
    "    song_predict.columns=fname\n",
    "    #print(\"Model prediction01: {}s\".format(time.time() - start_time))\n",
    "    #start_time = time.time()\n",
    "\n",
    "\n",
    "    #print(\"Model prediction2: {}s\".format(time.time() - start_time))\n",
    "    #start_time = time.time()\n",
    "\n",
    "    tags_predict = pd.DataFrame(new_matrix[:,:12381])\n",
    "    tags_predict.columns=tname\n",
    "    #print(recommender_for_user(user_id = i, interact_matrix = df)[\"score\"].index.tolist())\n",
    "    #print(val_[i][\"songs\"])\n",
    "    val_copy[i][\"tags\"] = recommender_for_user(user_id = 0, interact_matrix = tags_predict)[\"score\"].index.tolist()\n",
    "    val_copy[i][\"songs\"] = recommender_for_user_s(user_id = 0, interact_matrix = song_predict)[\"score\"].index.tolist()\n",
    "#     print(\"Model prediction3: {}s\".format(time.time() - start_time))\n",
    "#     start_time = time.time()\n",
    "\n",
    "#     print(val[i][\"songs\"] == top_songs, top_songs)"
   ]
  },
  {
   "cell_type": "code",
   "execution_count": 75,
   "metadata": {},
   "outputs": [],
   "source": [
    "import json\n",
    "def load_json(fname):\n",
    "    with open(fname, encoding=\"UTF-8\") as f:\n",
    "        json_obj = json.load(f)\n",
    "\n",
    "    return json_obj\n",
    "\n",
    "\n",
    "#dap2 = load_json(\"2.json\")\n",
    "dap50 = load_json(\"dab.json\")"
   ]
  },
  {
   "cell_type": "code",
   "execution_count": 76,
   "metadata": {},
   "outputs": [],
   "source": [
    "for i in range(len(dap50)):\n",
    "    dap50[i][\"songs\"] = val_copy[i][\"songs\"]\n",
    "    dap50[i][\"tags\"] = val_copy[i][\"tags\"]\n",
    "    \n",
    "for i in range(len(dap50)):\n",
    "    for j in range(len(dap50[i][\"songs\"])):\n",
    "        dap50[i][\"songs\"][j] = int(dap50[i][\"songs\"][j])\n",
    "        \n",
    "        \n",
    "with open(\"resu_t.json\", \"w\") as outfile:\n",
    "        json.dump(dap50, outfile, ensure_ascii=False, indent=4)"
   ]
  },
  {
   "cell_type": "code",
   "execution_count": 74,
   "metadata": {},
   "outputs": [
    {
     "data": {
      "text/plain": [
       "{'tags': ['팝', 'ost', '락', '디즈니', '운동', '여행', '겨울왕국', '산책', '겨울', '알앤비'],\n",
       " 'id': 118598,\n",
       " 'plylst_title': '',\n",
       " 'songs': ['703323',\n",
       "  '422438',\n",
       "  '623047',\n",
       "  '569715',\n",
       "  '394031',\n",
       "  '638488',\n",
       "  '157900',\n",
       "  '413459',\n",
       "  '207912',\n",
       "  '385871',\n",
       "  '551157',\n",
       "  '285275',\n",
       "  '430476',\n",
       "  '387642',\n",
       "  '322215',\n",
       "  '283939',\n",
       "  '689366',\n",
       "  '516376',\n",
       "  '78983',\n",
       "  '545553',\n",
       "  '66475',\n",
       "  '455806',\n",
       "  '427106',\n",
       "  '268669',\n",
       "  '412305',\n",
       "  '545816',\n",
       "  '472374',\n",
       "  '220100',\n",
       "  '396028',\n",
       "  '328908',\n",
       "  '292859',\n",
       "  '39436',\n",
       "  '381851',\n",
       "  '562903',\n",
       "  '259770',\n",
       "  '567490',\n",
       "  '545983',\n",
       "  '341264',\n",
       "  '151704',\n",
       "  '533646',\n",
       "  '625875',\n",
       "  '125214',\n",
       "  '654428',\n",
       "  '567076',\n",
       "  '447762',\n",
       "  '225631',\n",
       "  '648022',\n",
       "  '690767',\n",
       "  '668694',\n",
       "  '40025',\n",
       "  '590972',\n",
       "  '460089',\n",
       "  '494552',\n",
       "  '249378',\n",
       "  '21512',\n",
       "  '203153',\n",
       "  '283803',\n",
       "  '307938',\n",
       "  '491808',\n",
       "  '233076',\n",
       "  '540321',\n",
       "  '578523',\n",
       "  '555986',\n",
       "  '258135',\n",
       "  '297918',\n",
       "  '619259',\n",
       "  '257929',\n",
       "  '467269',\n",
       "  '26908',\n",
       "  '10690',\n",
       "  '574308',\n",
       "  '380092',\n",
       "  '242188',\n",
       "  '505518',\n",
       "  '424080',\n",
       "  '549647',\n",
       "  '693988',\n",
       "  '313532',\n",
       "  '525746',\n",
       "  '355815',\n",
       "  '407900',\n",
       "  '404160',\n",
       "  '262573',\n",
       "  '362576',\n",
       "  '520540',\n",
       "  '219415',\n",
       "  '352807',\n",
       "  '192385',\n",
       "  '297376',\n",
       "  '365257',\n",
       "  '406531',\n",
       "  '377828',\n",
       "  '140837',\n",
       "  '384188',\n",
       "  '585735',\n",
       "  '115990',\n",
       "  '272925',\n",
       "  '646988',\n",
       "  '677243',\n",
       "  '660172'],\n",
       " 'like_cnt': 1675,\n",
       " 'updt_date': '2019-05-27 14:14:33.000'}"
      ]
     },
     "execution_count": 74,
     "metadata": {},
     "output_type": "execute_result"
    }
   ],
   "source": [
    "val_copy[0]"
   ]
  },
  {
   "cell_type": "code",
   "execution_count": 58,
   "metadata": {},
   "outputs": [
    {
     "data": {
      "text/plain": [
       "{'id': 118598,\n",
       " 'songs': [373313,\n",
       "  151080,\n",
       "  275346,\n",
       "  696876,\n",
       "  165237,\n",
       "  525935,\n",
       "  457812,\n",
       "  371709,\n",
       "  170292,\n",
       "  438915,\n",
       "  162569,\n",
       "  161136,\n",
       "  310892,\n",
       "  608704,\n",
       "  295701,\n",
       "  127698,\n",
       "  269427,\n",
       "  592526,\n",
       "  110696,\n",
       "  368214,\n",
       "  24386,\n",
       "  104455,\n",
       "  61612,\n",
       "  151421,\n",
       "  416023,\n",
       "  320447,\n",
       "  19606],\n",
       " 'tags': ['OST',\n",
       "  '디즈니',\n",
       "  '애니메이션',\n",
       "  '픽사',\n",
       "  '알라딘',\n",
       "  '겨울왕국',\n",
       "  '인어공주',\n",
       "  '디즈니OST',\n",
       "  '라푼젤',\n",
       "  '미녀와야수']}"
      ]
     },
     "execution_count": 58,
     "metadata": {},
     "output_type": "execute_result"
    }
   ],
   "source": [
    "dap50[0]"
   ]
  },
  {
   "cell_type": "code",
   "execution_count": 4,
   "metadata": {},
   "outputs": [],
   "source": []
  },
  {
   "cell_type": "code",
   "execution_count": 14,
   "metadata": {},
   "outputs": [
    {
     "data": {
      "text/plain": [
       "{'song_gn_dtl_gnr_basket': ['GN0901'],\n",
       " 'issue_date': '20140512',\n",
       " 'album_name': '불후의 명곡 - 7080 추억의 얄개시대 팝송베스트',\n",
       " 'album_id': 2255639,\n",
       " 'artist_id_basket': [2727],\n",
       " 'song_name': 'Feelings',\n",
       " 'song_gn_gnr_basket': ['GN0900'],\n",
       " 'artist_name_basket': ['Various Artists'],\n",
       " 'id': 0}"
      ]
     },
     "execution_count": 14,
     "metadata": {},
     "output_type": "execute_result"
    }
   ],
   "source": [
    "song_meta[0]"
   ]
  },
  {
   "cell_type": "code",
   "execution_count": 24,
   "metadata": {},
   "outputs": [],
   "source": []
  },
  {
   "cell_type": "code",
   "execution_count": 8,
   "metadata": {
    "collapsed": true,
    "jupyter": {
     "outputs_hidden": true
    }
   },
   "outputs": [
    {
     "ename": "KeyboardInterrupt",
     "evalue": "",
     "output_type": "error",
     "traceback": [
      "\u001b[0;31m---------------------------------------------------------------------------\u001b[0m",
      "\u001b[0;31mKeyboardInterrupt\u001b[0m                         Traceback (most recent call last)",
      "\u001b[0;32m<ipython-input-8-557899340dd4>\u001b[0m in \u001b[0;36m<module>\u001b[0;34m\u001b[0m\n\u001b[0;32m----> 1\u001b[0;31m \u001b[0martist_tabel\u001b[0m \u001b[0;34m=\u001b[0m \u001b[0mget_artist_table\u001b[0m\u001b[0;34m(\u001b[0m\u001b[0msong_basket\u001b[0m\u001b[0;34m,\u001b[0m\u001b[0msong_meta\u001b[0m\u001b[0;34m)\u001b[0m\u001b[0;34m\u001b[0m\u001b[0;34m\u001b[0m\u001b[0m\n\u001b[0m",
      "\u001b[0;32m<ipython-input-7-9251c0828be4>\u001b[0m in \u001b[0;36mget_artist_table\u001b[0;34m(tr_songs, song_meta)\u001b[0m\n\u001b[1;32m     56\u001b[0m     \u001b[0mtable_list\u001b[0m \u001b[0;34m=\u001b[0m \u001b[0;34m[\u001b[0m\u001b[0;34m]\u001b[0m\u001b[0;34m\u001b[0m\u001b[0;34m\u001b[0m\u001b[0m\n\u001b[1;32m     57\u001b[0m     \u001b[0;32mfor\u001b[0m \u001b[0m_\u001b[0m \u001b[0;32min\u001b[0m \u001b[0mrange\u001b[0m\u001b[0;34m(\u001b[0m\u001b[0mlen\u001b[0m\u001b[0;34m(\u001b[0m\u001b[0mtr_songs\u001b[0m\u001b[0;34m)\u001b[0m\u001b[0;34m)\u001b[0m\u001b[0;34m:\u001b[0m\u001b[0;34m\u001b[0m\u001b[0;34m\u001b[0m\u001b[0m\n\u001b[0;32m---> 58\u001b[0;31m         \u001b[0mtable_list\u001b[0m\u001b[0;34m.\u001b[0m\u001b[0mappend\u001b[0m\u001b[0;34m(\u001b[0m\u001b[0mcopy\u001b[0m\u001b[0;34m.\u001b[0m\u001b[0mdeepcopy\u001b[0m\u001b[0;34m(\u001b[0m\u001b[0martist_table\u001b[0m\u001b[0;34m)\u001b[0m\u001b[0;34m)\u001b[0m\u001b[0;34m\u001b[0m\u001b[0;34m\u001b[0m\u001b[0m\n\u001b[0m\u001b[1;32m     59\u001b[0m     \u001b[0;32mfor\u001b[0m \u001b[0mi\u001b[0m\u001b[0;34m,\u001b[0m \u001b[0martist\u001b[0m \u001b[0;32min\u001b[0m \u001b[0menumerate\u001b[0m\u001b[0;34m(\u001b[0m\u001b[0mtr_artist\u001b[0m\u001b[0;34m)\u001b[0m\u001b[0;34m:\u001b[0m\u001b[0;34m\u001b[0m\u001b[0;34m\u001b[0m\u001b[0m\n\u001b[1;32m     60\u001b[0m         \u001b[0;32mfor\u001b[0m \u001b[0martist_id\u001b[0m \u001b[0;32min\u001b[0m \u001b[0martist\u001b[0m\u001b[0;34m:\u001b[0m\u001b[0;34m\u001b[0m\u001b[0;34m\u001b[0m\u001b[0m\n",
      "\u001b[0;32m~/anaconda3/envs/allml/lib/python3.7/copy.py\u001b[0m in \u001b[0;36mdeepcopy\u001b[0;34m(x, memo, _nil)\u001b[0m\n\u001b[1;32m    148\u001b[0m     \u001b[0mcopier\u001b[0m \u001b[0;34m=\u001b[0m \u001b[0m_deepcopy_dispatch\u001b[0m\u001b[0;34m.\u001b[0m\u001b[0mget\u001b[0m\u001b[0;34m(\u001b[0m\u001b[0mcls\u001b[0m\u001b[0;34m)\u001b[0m\u001b[0;34m\u001b[0m\u001b[0;34m\u001b[0m\u001b[0m\n\u001b[1;32m    149\u001b[0m     \u001b[0;32mif\u001b[0m \u001b[0mcopier\u001b[0m\u001b[0;34m:\u001b[0m\u001b[0;34m\u001b[0m\u001b[0;34m\u001b[0m\u001b[0m\n\u001b[0;32m--> 150\u001b[0;31m         \u001b[0my\u001b[0m \u001b[0;34m=\u001b[0m \u001b[0mcopier\u001b[0m\u001b[0;34m(\u001b[0m\u001b[0mx\u001b[0m\u001b[0;34m,\u001b[0m \u001b[0mmemo\u001b[0m\u001b[0;34m)\u001b[0m\u001b[0;34m\u001b[0m\u001b[0;34m\u001b[0m\u001b[0m\n\u001b[0m\u001b[1;32m    151\u001b[0m     \u001b[0;32melse\u001b[0m\u001b[0;34m:\u001b[0m\u001b[0;34m\u001b[0m\u001b[0;34m\u001b[0m\u001b[0m\n\u001b[1;32m    152\u001b[0m         \u001b[0;32mtry\u001b[0m\u001b[0;34m:\u001b[0m\u001b[0;34m\u001b[0m\u001b[0;34m\u001b[0m\u001b[0m\n",
      "\u001b[0;32m~/anaconda3/envs/allml/lib/python3.7/copy.py\u001b[0m in \u001b[0;36m_deepcopy_dict\u001b[0;34m(x, memo, deepcopy)\u001b[0m\n\u001b[1;32m    238\u001b[0m     \u001b[0mmemo\u001b[0m\u001b[0;34m[\u001b[0m\u001b[0mid\u001b[0m\u001b[0;34m(\u001b[0m\u001b[0mx\u001b[0m\u001b[0;34m)\u001b[0m\u001b[0;34m]\u001b[0m \u001b[0;34m=\u001b[0m \u001b[0my\u001b[0m\u001b[0;34m\u001b[0m\u001b[0;34m\u001b[0m\u001b[0m\n\u001b[1;32m    239\u001b[0m     \u001b[0;32mfor\u001b[0m \u001b[0mkey\u001b[0m\u001b[0;34m,\u001b[0m \u001b[0mvalue\u001b[0m \u001b[0;32min\u001b[0m \u001b[0mx\u001b[0m\u001b[0;34m.\u001b[0m\u001b[0mitems\u001b[0m\u001b[0;34m(\u001b[0m\u001b[0;34m)\u001b[0m\u001b[0;34m:\u001b[0m\u001b[0;34m\u001b[0m\u001b[0;34m\u001b[0m\u001b[0m\n\u001b[0;32m--> 240\u001b[0;31m         \u001b[0my\u001b[0m\u001b[0;34m[\u001b[0m\u001b[0mdeepcopy\u001b[0m\u001b[0;34m(\u001b[0m\u001b[0mkey\u001b[0m\u001b[0;34m,\u001b[0m \u001b[0mmemo\u001b[0m\u001b[0;34m)\u001b[0m\u001b[0;34m]\u001b[0m \u001b[0;34m=\u001b[0m \u001b[0mdeepcopy\u001b[0m\u001b[0;34m(\u001b[0m\u001b[0mvalue\u001b[0m\u001b[0;34m,\u001b[0m \u001b[0mmemo\u001b[0m\u001b[0;34m)\u001b[0m\u001b[0;34m\u001b[0m\u001b[0;34m\u001b[0m\u001b[0m\n\u001b[0m\u001b[1;32m    241\u001b[0m     \u001b[0;32mreturn\u001b[0m \u001b[0my\u001b[0m\u001b[0;34m\u001b[0m\u001b[0;34m\u001b[0m\u001b[0m\n\u001b[1;32m    242\u001b[0m \u001b[0md\u001b[0m\u001b[0;34m[\u001b[0m\u001b[0mdict\u001b[0m\u001b[0;34m]\u001b[0m \u001b[0;34m=\u001b[0m \u001b[0m_deepcopy_dict\u001b[0m\u001b[0;34m\u001b[0m\u001b[0;34m\u001b[0m\u001b[0m\n",
      "\u001b[0;31mKeyboardInterrupt\u001b[0m: "
     ]
    }
   ],
   "source": [
    "artist_tabel = get_artist_table(song_basket,song_meta)"
   ]
  },
  {
   "cell_type": "code",
   "execution_count": 25,
   "metadata": {},
   "outputs": [],
   "source": [
    "genre_tabel, error = get_genre_table(song_basket, song_meta, genre_meta)"
   ]
  },
  {
   "cell_type": "code",
   "execution_count": 26,
   "metadata": {},
   "outputs": [],
   "source": []
  },
  {
   "cell_type": "code",
   "execution_count": 27,
   "metadata": {},
   "outputs": [
    {
     "data": {
      "text/html": [
       "<div>\n",
       "<style scoped>\n",
       "    .dataframe tbody tr th:only-of-type {\n",
       "        vertical-align: middle;\n",
       "    }\n",
       "\n",
       "    .dataframe tbody tr th {\n",
       "        vertical-align: top;\n",
       "    }\n",
       "\n",
       "    .dataframe thead th {\n",
       "        text-align: right;\n",
       "    }\n",
       "</style>\n",
       "<table border=\"1\" class=\"dataframe\">\n",
       "  <thead>\n",
       "    <tr style=\"text-align: right;\">\n",
       "      <th></th>\n",
       "      <th>0</th>\n",
       "      <th>1</th>\n",
       "      <th>2</th>\n",
       "      <th>3</th>\n",
       "      <th>4</th>\n",
       "      <th>5</th>\n",
       "      <th>6</th>\n",
       "      <th>7</th>\n",
       "      <th>8</th>\n",
       "      <th>9</th>\n",
       "      <th>...</th>\n",
       "      <th>245</th>\n",
       "      <th>246</th>\n",
       "      <th>247</th>\n",
       "      <th>248</th>\n",
       "      <th>249</th>\n",
       "      <th>250</th>\n",
       "      <th>251</th>\n",
       "      <th>252</th>\n",
       "      <th>253</th>\n",
       "      <th>254</th>\n",
       "    </tr>\n",
       "  </thead>\n",
       "  <tbody>\n",
       "    <tr>\n",
       "      <th>0</th>\n",
       "      <td>0</td>\n",
       "      <td>0</td>\n",
       "      <td>0</td>\n",
       "      <td>0</td>\n",
       "      <td>0</td>\n",
       "      <td>0</td>\n",
       "      <td>0</td>\n",
       "      <td>0</td>\n",
       "      <td>0</td>\n",
       "      <td>0</td>\n",
       "      <td>...</td>\n",
       "      <td>0</td>\n",
       "      <td>0</td>\n",
       "      <td>0</td>\n",
       "      <td>0</td>\n",
       "      <td>0</td>\n",
       "      <td>0</td>\n",
       "      <td>0</td>\n",
       "      <td>0</td>\n",
       "      <td>0</td>\n",
       "      <td>0</td>\n",
       "    </tr>\n",
       "    <tr>\n",
       "      <th>1</th>\n",
       "      <td>11</td>\n",
       "      <td>11</td>\n",
       "      <td>0</td>\n",
       "      <td>1</td>\n",
       "      <td>3</td>\n",
       "      <td>6</td>\n",
       "      <td>0</td>\n",
       "      <td>0</td>\n",
       "      <td>0</td>\n",
       "      <td>0</td>\n",
       "      <td>...</td>\n",
       "      <td>0</td>\n",
       "      <td>0</td>\n",
       "      <td>0</td>\n",
       "      <td>0</td>\n",
       "      <td>0</td>\n",
       "      <td>0</td>\n",
       "      <td>0</td>\n",
       "      <td>0</td>\n",
       "      <td>0</td>\n",
       "      <td>0</td>\n",
       "    </tr>\n",
       "    <tr>\n",
       "      <th>2</th>\n",
       "      <td>2</td>\n",
       "      <td>2</td>\n",
       "      <td>0</td>\n",
       "      <td>0</td>\n",
       "      <td>0</td>\n",
       "      <td>0</td>\n",
       "      <td>0</td>\n",
       "      <td>0</td>\n",
       "      <td>0</td>\n",
       "      <td>0</td>\n",
       "      <td>...</td>\n",
       "      <td>0</td>\n",
       "      <td>0</td>\n",
       "      <td>0</td>\n",
       "      <td>0</td>\n",
       "      <td>0</td>\n",
       "      <td>0</td>\n",
       "      <td>0</td>\n",
       "      <td>0</td>\n",
       "      <td>0</td>\n",
       "      <td>0</td>\n",
       "    </tr>\n",
       "    <tr>\n",
       "      <th>3</th>\n",
       "      <td>14</td>\n",
       "      <td>14</td>\n",
       "      <td>0</td>\n",
       "      <td>1</td>\n",
       "      <td>0</td>\n",
       "      <td>6</td>\n",
       "      <td>0</td>\n",
       "      <td>0</td>\n",
       "      <td>0</td>\n",
       "      <td>0</td>\n",
       "      <td>...</td>\n",
       "      <td>0</td>\n",
       "      <td>0</td>\n",
       "      <td>0</td>\n",
       "      <td>0</td>\n",
       "      <td>0</td>\n",
       "      <td>0</td>\n",
       "      <td>0</td>\n",
       "      <td>0</td>\n",
       "      <td>0</td>\n",
       "      <td>0</td>\n",
       "    </tr>\n",
       "    <tr>\n",
       "      <th>4</th>\n",
       "      <td>5</td>\n",
       "      <td>5</td>\n",
       "      <td>0</td>\n",
       "      <td>3</td>\n",
       "      <td>0</td>\n",
       "      <td>0</td>\n",
       "      <td>43</td>\n",
       "      <td>42</td>\n",
       "      <td>0</td>\n",
       "      <td>30</td>\n",
       "      <td>...</td>\n",
       "      <td>0</td>\n",
       "      <td>0</td>\n",
       "      <td>0</td>\n",
       "      <td>0</td>\n",
       "      <td>0</td>\n",
       "      <td>0</td>\n",
       "      <td>0</td>\n",
       "      <td>0</td>\n",
       "      <td>0</td>\n",
       "      <td>0</td>\n",
       "    </tr>\n",
       "    <tr>\n",
       "      <th>...</th>\n",
       "      <td>...</td>\n",
       "      <td>...</td>\n",
       "      <td>...</td>\n",
       "      <td>...</td>\n",
       "      <td>...</td>\n",
       "      <td>...</td>\n",
       "      <td>...</td>\n",
       "      <td>...</td>\n",
       "      <td>...</td>\n",
       "      <td>...</td>\n",
       "      <td>...</td>\n",
       "      <td>...</td>\n",
       "      <td>...</td>\n",
       "      <td>...</td>\n",
       "      <td>...</td>\n",
       "      <td>...</td>\n",
       "      <td>...</td>\n",
       "      <td>...</td>\n",
       "      <td>...</td>\n",
       "      <td>...</td>\n",
       "      <td>...</td>\n",
       "    </tr>\n",
       "    <tr>\n",
       "      <th>148821</th>\n",
       "      <td>0</td>\n",
       "      <td>0</td>\n",
       "      <td>0</td>\n",
       "      <td>0</td>\n",
       "      <td>0</td>\n",
       "      <td>0</td>\n",
       "      <td>0</td>\n",
       "      <td>0</td>\n",
       "      <td>0</td>\n",
       "      <td>0</td>\n",
       "      <td>...</td>\n",
       "      <td>0</td>\n",
       "      <td>0</td>\n",
       "      <td>0</td>\n",
       "      <td>0</td>\n",
       "      <td>0</td>\n",
       "      <td>0</td>\n",
       "      <td>0</td>\n",
       "      <td>0</td>\n",
       "      <td>0</td>\n",
       "      <td>0</td>\n",
       "    </tr>\n",
       "    <tr>\n",
       "      <th>148822</th>\n",
       "      <td>36</td>\n",
       "      <td>36</td>\n",
       "      <td>0</td>\n",
       "      <td>0</td>\n",
       "      <td>0</td>\n",
       "      <td>28</td>\n",
       "      <td>0</td>\n",
       "      <td>0</td>\n",
       "      <td>0</td>\n",
       "      <td>0</td>\n",
       "      <td>...</td>\n",
       "      <td>0</td>\n",
       "      <td>0</td>\n",
       "      <td>0</td>\n",
       "      <td>0</td>\n",
       "      <td>0</td>\n",
       "      <td>0</td>\n",
       "      <td>0</td>\n",
       "      <td>0</td>\n",
       "      <td>0</td>\n",
       "      <td>0</td>\n",
       "    </tr>\n",
       "    <tr>\n",
       "      <th>148823</th>\n",
       "      <td>0</td>\n",
       "      <td>0</td>\n",
       "      <td>0</td>\n",
       "      <td>0</td>\n",
       "      <td>0</td>\n",
       "      <td>0</td>\n",
       "      <td>0</td>\n",
       "      <td>0</td>\n",
       "      <td>0</td>\n",
       "      <td>0</td>\n",
       "      <td>...</td>\n",
       "      <td>0</td>\n",
       "      <td>0</td>\n",
       "      <td>0</td>\n",
       "      <td>0</td>\n",
       "      <td>0</td>\n",
       "      <td>0</td>\n",
       "      <td>0</td>\n",
       "      <td>0</td>\n",
       "      <td>0</td>\n",
       "      <td>0</td>\n",
       "    </tr>\n",
       "    <tr>\n",
       "      <th>148824</th>\n",
       "      <td>0</td>\n",
       "      <td>0</td>\n",
       "      <td>0</td>\n",
       "      <td>0</td>\n",
       "      <td>0</td>\n",
       "      <td>0</td>\n",
       "      <td>0</td>\n",
       "      <td>0</td>\n",
       "      <td>0</td>\n",
       "      <td>0</td>\n",
       "      <td>...</td>\n",
       "      <td>0</td>\n",
       "      <td>0</td>\n",
       "      <td>0</td>\n",
       "      <td>0</td>\n",
       "      <td>0</td>\n",
       "      <td>0</td>\n",
       "      <td>0</td>\n",
       "      <td>0</td>\n",
       "      <td>0</td>\n",
       "      <td>0</td>\n",
       "    </tr>\n",
       "    <tr>\n",
       "      <th>148825</th>\n",
       "      <td>0</td>\n",
       "      <td>0</td>\n",
       "      <td>0</td>\n",
       "      <td>0</td>\n",
       "      <td>0</td>\n",
       "      <td>0</td>\n",
       "      <td>0</td>\n",
       "      <td>0</td>\n",
       "      <td>0</td>\n",
       "      <td>0</td>\n",
       "      <td>...</td>\n",
       "      <td>0</td>\n",
       "      <td>0</td>\n",
       "      <td>0</td>\n",
       "      <td>0</td>\n",
       "      <td>0</td>\n",
       "      <td>0</td>\n",
       "      <td>0</td>\n",
       "      <td>0</td>\n",
       "      <td>0</td>\n",
       "      <td>0</td>\n",
       "    </tr>\n",
       "  </tbody>\n",
       "</table>\n",
       "<p>148826 rows × 255 columns</p>\n",
       "</div>"
      ],
      "text/plain": [
       "        0    1    2    3    4    5    6    7    8    9    ...  245  246  247  \\\n",
       "0         0    0    0    0    0    0    0    0    0    0  ...    0    0    0   \n",
       "1        11   11    0    1    3    6    0    0    0    0  ...    0    0    0   \n",
       "2         2    2    0    0    0    0    0    0    0    0  ...    0    0    0   \n",
       "3        14   14    0    1    0    6    0    0    0    0  ...    0    0    0   \n",
       "4         5    5    0    3    0    0   43   42    0   30  ...    0    0    0   \n",
       "...     ...  ...  ...  ...  ...  ...  ...  ...  ...  ...  ...  ...  ...  ...   \n",
       "148821    0    0    0    0    0    0    0    0    0    0  ...    0    0    0   \n",
       "148822   36   36    0    0    0   28    0    0    0    0  ...    0    0    0   \n",
       "148823    0    0    0    0    0    0    0    0    0    0  ...    0    0    0   \n",
       "148824    0    0    0    0    0    0    0    0    0    0  ...    0    0    0   \n",
       "148825    0    0    0    0    0    0    0    0    0    0  ...    0    0    0   \n",
       "\n",
       "        248  249  250  251  252  253  254  \n",
       "0         0    0    0    0    0    0    0  \n",
       "1         0    0    0    0    0    0    0  \n",
       "2         0    0    0    0    0    0    0  \n",
       "3         0    0    0    0    0    0    0  \n",
       "4         0    0    0    0    0    0    0  \n",
       "...     ...  ...  ...  ...  ...  ...  ...  \n",
       "148821    0    0    0    0    0    0    0  \n",
       "148822    0    0    0    0    0    0    0  \n",
       "148823    0    0    0    0    0    0    0  \n",
       "148824    0    0    0    0    0    0    0  \n",
       "148825    0    0    0    0    0    0    0  \n",
       "\n",
       "[148826 rows x 255 columns]"
      ]
     },
     "execution_count": 27,
     "metadata": {},
     "output_type": "execute_result"
    }
   ],
   "source": [
    "pdgenre_"
   ]
  },
  {
   "cell_type": "code",
   "execution_count": 43,
   "metadata": {},
   "outputs": [
    {
     "data": {
      "text/plain": [
       "24"
      ]
     },
     "execution_count": 43,
     "metadata": {},
     "output_type": "execute_result"
    }
   ],
   "source": [
    "len(pdgenre_.iloc[0][pdgenre_.iloc[0] > 0])"
   ]
  },
  {
   "cell_type": "code",
   "execution_count": 39,
   "metadata": {},
   "outputs": [],
   "source": [
    "import scipy\n",
    "from scipy.sparse import csr_matrix\n",
    "genre_ = scipy.sparse.csr_matrix(pdgenre_.values)"
   ]
  },
  {
   "cell_type": "code",
   "execution_count": 40,
   "metadata": {},
   "outputs": [
    {
     "data": {
      "text/plain": [
       "<1x255 sparse matrix of type '<class 'numpy.int64'>'\n",
       "\twith 24 stored elements in Compressed Sparse Row format>"
      ]
     },
     "execution_count": 40,
     "metadata": {},
     "output_type": "execute_result"
    }
   ],
   "source": [
    "genre_[0]"
   ]
  },
  {
   "cell_type": "code",
   "execution_count": 15,
   "metadata": {},
   "outputs": [
    {
     "data": {
      "text/plain": [
       "['525514',\n",
       " '129701',\n",
       " '383374',\n",
       " '562083',\n",
       " '297861',\n",
       " '139541',\n",
       " '351214',\n",
       " '650298',\n",
       " '531057',\n",
       " '205238',\n",
       " '706183',\n",
       " '127099',\n",
       " '660493',\n",
       " '461973',\n",
       " '121455',\n",
       " '72552',\n",
       " '223955',\n",
       " '324992',\n",
       " '50104']"
      ]
     },
     "execution_count": 15,
     "metadata": {},
     "output_type": "execute_result"
    }
   ],
   "source": [
    "songs[0]"
   ]
  },
  {
   "cell_type": "code",
   "execution_count": 6,
   "metadata": {},
   "outputs": [],
   "source": []
  },
  {
   "cell_type": "code",
   "execution_count": 16,
   "metadata": {},
   "outputs": [
    {
     "data": {
      "text/plain": [
       "148826"
      ]
     },
     "execution_count": 16,
     "metadata": {},
     "output_type": "execute_result"
    }
   ],
   "source": [
    "len(song_basket)"
   ]
  },
  {
   "cell_type": "code",
   "execution_count": 1,
   "metadata": {},
   "outputs": [
    {
     "ename": "NameError",
     "evalue": "name 'artist_tabel' is not defined",
     "output_type": "error",
     "traceback": [
      "\u001b[0;31m---------------------------------------------------------------------------\u001b[0m",
      "\u001b[0;31mNameError\u001b[0m                                 Traceback (most recent call last)",
      "\u001b[0;32m<ipython-input-1-9b2f07ea7688>\u001b[0m in \u001b[0;36m<module>\u001b[0;34m\u001b[0m\n\u001b[0;32m----> 1\u001b[0;31m \u001b[0martist_tabel\u001b[0m\u001b[0;34m\u001b[0m\u001b[0;34m\u001b[0m\u001b[0m\n\u001b[0m",
      "\u001b[0;31mNameError\u001b[0m: name 'artist_tabel' is not defined"
     ]
    }
   ],
   "source": [
    "artist_tabel"
   ]
  },
  {
   "cell_type": "code",
   "execution_count": 16,
   "metadata": {},
   "outputs": [],
   "source": []
  },
  {
   "cell_type": "code",
   "execution_count": 18,
   "metadata": {},
   "outputs": [
    {
     "data": {
      "text/plain": [
       "19"
      ]
     },
     "execution_count": 18,
     "metadata": {},
     "output_type": "execute_result"
    }
   ],
   "source": [
    "len(songs[0])"
   ]
  },
  {
   "cell_type": "code",
   "execution_count": 19,
   "metadata": {},
   "outputs": [
    {
     "data": {
      "text/plain": [
       "14"
      ]
     },
     "execution_count": 19,
     "metadata": {},
     "output_type": "execute_result"
    }
   ],
   "source": [
    "len(a[0])"
   ]
  },
  {
   "cell_type": "code",
   "execution_count": 20,
   "metadata": {},
   "outputs": [
    {
     "data": {
      "text/plain": [
       "<1x156348 sparse matrix of type '<class 'numpy.int64'>'\n",
       "\twith 26 stored elements in Compressed Sparse Row format>"
      ]
     },
     "execution_count": 20,
     "metadata": {},
     "output_type": "execute_result"
    }
   ],
   "source": []
  },
  {
   "cell_type": "code",
   "execution_count": 21,
   "metadata": {},
   "outputs": [
    {
     "data": {
      "text/plain": [
       "<1x156348 sparse matrix of type '<class 'numpy.int64'>'\n",
       "\twith 38 stored elements in Compressed Sparse Row format>"
      ]
     },
     "execution_count": 21,
     "metadata": {},
     "output_type": "execute_result"
    }
   ],
   "source": [
    "train_s[1]"
   ]
  },
  {
   "cell_type": "code",
   "execution_count": 22,
   "metadata": {},
   "outputs": [],
   "source": []
  },
  {
   "cell_type": "code",
   "execution_count": 25,
   "metadata": {},
   "outputs": [
    {
     "data": {
      "text/plain": [
       "['Jason Mraz',\n",
       " 'Jason Mraz',\n",
       " 'Jason Mraz',\n",
       " 'Jason Mraz',\n",
       " 'Jason Mraz',\n",
       " 'Jason Mraz',\n",
       " 'Jason Mraz',\n",
       " 'Jason Mraz',\n",
       " 'Jason Mraz',\n",
       " 'Jason Mraz']"
      ]
     },
     "execution_count": 25,
     "metadata": {},
     "output_type": "execute_result"
    }
   ],
   "source": [
    "b[-1]"
   ]
  },
  {
   "cell_type": "code",
   "execution_count": 11,
   "metadata": {},
   "outputs": [],
   "source": []
  },
  {
   "cell_type": "code",
   "execution_count": 60,
   "metadata": {},
   "outputs": [
    {
     "data": {
      "text/plain": [
       "1"
      ]
     },
     "execution_count": 60,
     "metadata": {},
     "output_type": "execute_result"
    }
   ],
   "source": [
    "1"
   ]
  },
  {
   "cell_type": "code",
   "execution_count": null,
   "metadata": {},
   "outputs": [],
   "source": [
    "def get_genre_table(tr_songs, song_meta, genre_list):\n",
    "    def check_song_genre(song, genre_list):\n",
    "        # print(song)\n",
    "        genres = []\n",
    "        error_data = []\n",
    "        genres.extend(song[\"song_gn_gnr_basket\"])\n",
    "        genres.extend(song[\"song_gn_dtl_gnr_basket\"])\n",
    "        for genre in genres:\n",
    "            if genre not in genre_list:\n",
    "                error_data.append({\"type\": \"Genre is not exist\", \"data\": song})\n",
    "        if error_data:\n",
    "            return False, error_data\n",
    "        return True, None\n",
    "    tr_genre = []\n",
    "    error_data = []\n",
    "    for playlist in tr_songs:\n",
    "        genre = []\n",
    "        for song in playlist:\n",
    "            status, data = check_song_genre(song_meta[song], genre_list)\n",
    "            if status == False:\n",
    "                error_data.append(data)\n",
    "                genre.extend(song_meta[song][\"song_gn_gnr_basket\"])\n",
    "                continue\n",
    "            genre.extend(song_meta[song][\"song_gn_gnr_basket\"])\n",
    "            genre.extend(song_meta[song][\"song_gn_dtl_gnr_basket\"])\n",
    "        tr_genre.append(genre)\n",
    "    # init each genre table in playlist\n",
    "    table_list = []\n",
    "    for i in range(len(tr_songs)):\n",
    "        table = {}\n",
    "        for genre_id in genre_list:\n",
    "            table[genre_id] = 0\n",
    "        # add GN9000 value\n",
    "        table[\"GN9000\"] = 0\n",
    "        table_list.append(table)\n",
    "    # count genre\n",
    "    for i, genre in enumerate(tr_genre):\n",
    "        for genre_id in genre:\n",
    "            table_list[i][genre_id] += 1\n",
    "        table_list[i] = table_list[i].values()\n",
    "    return table_list, error_data\n",
    "def get_artist_table(tr_songs, song_meta):\n",
    "    table_list = []\n",
    "    artist_table = {}\n",
    "    for song in song_meta:\n",
    "        for artist_id in song[\"artist_id_basket\"]:\n",
    "            artist_table[artist_id] = 0\n",
    "    artist_list = artist_table.keys()\n",
    "    tr_artist = []\n",
    "    for playlist in tr_songs:\n",
    "        artist = []\n",
    "        for song in playlist:\n",
    "            artist.extend(song_meta[song][\"artist_id_basket\"])\n",
    "        tr_artist.append(artist)\n",
    "    import copy\n",
    "    table_list = []\n",
    "    for _ in range(len(tr_songs)):\n",
    "        table_list.append(copy.deepcopy(artist_table))\n",
    "    for i, artist in enumerate(tr_artist):\n",
    "        for artist_id in artist:\n",
    "            table_list[i][artist_id] += 1\n",
    "        table_list[i] = table_list[i].values()\n",
    "    return table_list"
   ]
  },
  {
   "cell_type": "code",
   "execution_count": null,
   "metadata": {},
   "outputs": [],
   "source": [
    "import pandas as pd\n",
    "pdgenre_ =pd.DataFrame(genre_tabel)"
   ]
  },
  {
   "cell_type": "code",
   "execution_count": 1,
   "metadata": {},
   "outputs": [
    {
     "data": {
      "text/plain": [
       "1"
      ]
     },
     "execution_count": 1,
     "metadata": {},
     "output_type": "execute_result"
    }
   ],
   "source": [
    "1"
   ]
  },
  {
   "cell_type": "code",
   "execution_count": null,
   "metadata": {},
   "outputs": [],
   "source": [
    "1"
   ]
  },
  {
   "cell_type": "code",
   "execution_count": null,
   "metadata": {},
   "outputs": [],
   "source": []
  }
 ],
 "metadata": {
  "kernelspec": {
   "display_name": "EasyDeep",
   "language": "python",
   "name": "easydeep"
  },
  "language_info": {
   "codemirror_mode": {
    "name": "ipython",
    "version": 3
   },
   "file_extension": ".py",
   "mimetype": "text/x-python",
   "name": "python",
   "nbconvert_exporter": "python",
   "pygments_lexer": "ipython3",
   "version": "3.7.5"
  }
 },
 "nbformat": 4,
 "nbformat_minor": 4
}
